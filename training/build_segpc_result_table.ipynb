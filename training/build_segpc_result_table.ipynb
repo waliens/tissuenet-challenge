{
 "cells": [
  {
   "cell_type": "code",
   "execution_count": 1,
   "metadata": {
    "scrolled": true
   },
   "outputs": [],
   "source": [
    "from train_segpc_hard_clustertools import weight_exclude, exclude_target_and_dice_calibration\n",
    "from train_segpc_hard_clustertools import no_distillation_filter, min_weight_only_for_entropy\n",
    "from train_segpc_hard_clustertools import SegpcDatasetConstraint\n",
    "from train_monuseg_hard_clustertools import filter_nc_rr\n",
    "from ipnb_helpers import ExperimentReader, plot_table"
   ]
  },
  {
   "cell_type": "code",
   "execution_count": 2,
   "metadata": {},
   "outputs": [],
   "source": [
    "import __main__\n",
    "setattr(__main__, \"weight_exclude\", weight_exclude)\n",
    "setattr(__main__, \"exclude_target_and_dice_calibration\", exclude_target_and_dice_calibration)\n",
    "setattr(__main__, \"no_distillation_filter\", no_distillation_filter)\n",
    "setattr(__main__, \"filter_nc_rr\", filter_nc_rr)\n",
    "setattr(__main__, \"min_weight_only_for_entropy\", min_weight_only_for_entropy)\n",
    "setattr(__main__, \"SegpcDatasetConstraint\", SegpcDatasetConstraint)\n"
   ]
  },
  {
   "cell_type": "code",
   "execution_count": 3,
   "metadata": {},
   "outputs": [],
   "source": [
    "#baseline = ExperimentReader(\"monuseg-unet-baseline\", \"monuseg-reeval-baseline\", \"rseed\")\n",
    "hard_exp = ExperimentReader(\"segpc-unet-hard\", \"segpc-reeval-hard\")\n",
    "nogt_exp = ExperimentReader(\"segpc-unet-nogt\", \"segpc-reeval-nogt\")\n",
    "base_exp = ExperimentReader(\"segpc-unet-baseline\", \"segpc-reeval-baseline\")\n",
    "lset_exp = ExperimentReader(\"segpc-unet-lset\", \"segpc-reeval-lset\")\n"
   ]
  },
  {
   "cell_type": "code",
   "execution_count": 4,
   "metadata": {},
   "outputs": [],
   "source": [
    "rows = [\n",
    "    {\"no_distillation\": 'False', \"distil_target_mode\": \"hard_dice\", \"weights_mode\": \"constant\", \"weights_constant\": '0.05'},\n",
    "    {\"no_distillation\": 'False', \"distil_target_mode\": \"hard_dice\", \"weights_mode\": \"constant\", \"weights_constant\": '0.2'},\n",
    "    {\"no_distillation\": 'False', \"distil_target_mode\": \"hard_dice\", \"weights_mode\": \"constant\", \"weights_constant\": '0.5'},\n",
    "    {\"no_distillation\": 'False', \"distil_target_mode\": \"hard_dice\", \"weights_mode\": \"constant\", \"weights_constant\": '1.0'},\n",
    "    {\"no_distillation\": 'False', \"distil_target_mode\": \"hard_dice\", \"weights_mode\": \"balance_gt\" },\n",
    "    {\"no_distillation\": 'False', \"distil_target_mode\": \"hard_dice\", \"weights_mode\": \"pred_entropy\", \"weights_minimum\": '0.1' },\n",
    "    {\"no_distillation\": 'False', \"distil_target_mode\": \"hard_dice\", \"weights_mode\": \"pred_entropy\", \"weights_minimum\": '0.5' },\n",
    "    {\"no_distillation\": 'False', \"distil_target_mode\": \"hard_dice\", \"weights_mode\": \"pred_consistency\", \"weights_neighbourhood\": '1', \"weights_consistency_fn\": \"absolute\", \"weights_minimum\": '0.5' },\n",
    "    {\"no_distillation\": 'False', \"distil_target_mode\": \"hard_dice\", \"weights_mode\": \"pred_consistency\", \"weights_neighbourhood\": '1', \"weights_consistency_fn\": \"quadratic\", \"weights_minimum\": '0.5' },\n",
    "    {\"no_distillation\": 'False', \"distil_target_mode\": \"hard_dice\", \"weights_mode\": \"pred_consistency\", \"weights_neighbourhood\": '2', \"weights_consistency_fn\": \"absolute\", \"weights_minimum\": '0.5' },\n",
    "    {\"no_distillation\": 'False', \"distil_target_mode\": \"hard_dice\", \"weights_mode\": \"pred_consistency\", \"weights_neighbourhood\": '2', \"weights_consistency_fn\": \"quadratic\", \"weights_minimum\": '0.5' },\n",
    "    {\"no_distillation\": 'False', \"distil_target_mode\": \"hard_dice\", \"weights_mode\": \"pred_merged\", \"weights_neighbourhood\": '1', \"weights_consistency_fn\": \"absolute\", \"weights_minimum\": '0.1' },\n",
    "    {\"no_distillation\": 'False', \"distil_target_mode\": \"hard_dice\", \"weights_mode\": \"pred_merged\", \"weights_neighbourhood\": '1', \"weights_consistency_fn\": \"quadratic\", \"weights_minimum\": '0.1' },\n",
    "    {\"no_distillation\": 'False', \"distil_target_mode\": \"hard_dice\", \"weights_mode\": \"pred_merged\", \"weights_neighbourhood\": '2', \"weights_consistency_fn\": \"absolute\", \"weights_minimum\": '0.1' },\n",
    "    {\"no_distillation\": 'False', \"distil_target_mode\": \"hard_dice\", \"weights_mode\": \"pred_merged\", \"weights_neighbourhood\": '2', \"weights_consistency_fn\": \"quadratic\", \"weights_minimum\": '0.1' },\n",
    "    {\"no_distillation\": 'False', \"distil_target_mode\": \"hard_dice\", \"weights_mode\": \"pred_merged\", \"weights_neighbourhood\": '1', \"weights_consistency_fn\": \"absolute\", \"weights_minimum\": '0.5' },\n",
    "    {\"no_distillation\": 'False', \"distil_target_mode\": \"hard_dice\", \"weights_mode\": \"pred_merged\", \"weights_neighbourhood\": '1', \"weights_consistency_fn\": \"quadratic\", \"weights_minimum\": '0.5' },\n",
    "    {\"no_distillation\": 'False', \"distil_target_mode\": \"hard_dice\", \"weights_mode\": \"pred_merged\", \"weights_neighbourhood\": '2', \"weights_consistency_fn\": \"absolute\", \"weights_minimum\": '0.5' },\n",
    "    {\"no_distillation\": 'False', \"distil_target_mode\": \"hard_dice\", \"weights_mode\": \"pred_merged\", \"weights_neighbourhood\": '2', \"weights_consistency_fn\": \"quadratic\", \"weights_minimum\": '0.5' },\n",
    "    {\"no_distillation\": 'False', \"distil_target_mode\": \"soft\", \"weights_mode\": \"constant\", \"weights_constant\": '0.05'},\n",
    "    {\"no_distillation\": 'False', \"distil_target_mode\": \"soft\", \"weights_mode\": \"constant\", \"weights_constant\": '0.2'},\n",
    "    {\"no_distillation\": 'False', \"distil_target_mode\": \"soft\", \"weights_mode\": \"constant\", \"weights_constant\": '0.5'},\n",
    "    {\"no_distillation\": 'False', \"distil_target_mode\": \"soft\", \"weights_mode\": \"constant\", \"weights_constant\": '1.0'},\n",
    "    {\"no_distillation\": 'False', \"distil_target_mode\": \"soft\", \"weights_mode\": \"balance_gt\" },\n",
    "    {\"no_distillation\": 'False', \"distil_target_mode\": \"soft\", \"weights_mode\": \"pred_entropy\", \"weights_minimum\": '0.1' },\n",
    "    {\"no_distillation\": 'False', \"distil_target_mode\": \"soft\", \"weights_mode\": \"pred_entropy\", \"weights_minimum\": '0.5' },\n",
    "    {\"no_distillation\": 'False', \"distil_target_mode\": \"soft\", \"weights_mode\": \"pred_consistency\", \"weights_neighbourhood\": '1', \"weights_consistency_fn\": \"absolute\", \"weights_minimum\": '0.5' },\n",
    "    {\"no_distillation\": 'False', \"distil_target_mode\": \"soft\", \"weights_mode\": \"pred_consistency\", \"weights_neighbourhood\": '1', \"weights_consistency_fn\": \"quadratic\", \"weights_minimum\": '0.5' },\n",
    "    {\"no_distillation\": 'False', \"distil_target_mode\": \"soft\", \"weights_mode\": \"pred_consistency\", \"weights_neighbourhood\": '2', \"weights_consistency_fn\": \"absolute\", \"weights_minimum\": '0.5' },\n",
    "    {\"no_distillation\": 'False', \"distil_target_mode\": \"soft\", \"weights_mode\": \"pred_consistency\", \"weights_neighbourhood\": '2', \"weights_consistency_fn\": \"quadratic\", \"weights_minimum\": '0.5' },\n",
    "    {\"no_distillation\": 'False', \"distil_target_mode\": \"soft\", \"weights_mode\": \"pred_merged\", \"weights_neighbourhood\": '1', \"weights_consistency_fn\": \"absolute\", \"weights_minimum\": '0.1' },\n",
    "    {\"no_distillation\": 'False', \"distil_target_mode\": \"soft\", \"weights_mode\": \"pred_merged\", \"weights_neighbourhood\": '1', \"weights_consistency_fn\": \"quadratic\", \"weights_minimum\": '0.1' },\n",
    "    {\"no_distillation\": 'False', \"distil_target_mode\": \"soft\", \"weights_mode\": \"pred_merged\", \"weights_neighbourhood\": '2', \"weights_consistency_fn\": \"absolute\", \"weights_minimum\": '0.1' },\n",
    "    {\"no_distillation\": 'False', \"distil_target_mode\": \"soft\", \"weights_mode\": \"pred_merged\", \"weights_neighbourhood\": '2', \"weights_consistency_fn\": \"quadratic\", \"weights_minimum\": '0.1' },\n",
    "    {\"no_distillation\": 'False', \"distil_target_mode\": \"soft\", \"weights_mode\": \"pred_merged\", \"weights_neighbourhood\": '1', \"weights_consistency_fn\": \"absolute\", \"weights_minimum\": '0.5' },\n",
    "    {\"no_distillation\": 'False', \"distil_target_mode\": \"soft\", \"weights_mode\": \"pred_merged\", \"weights_neighbourhood\": '1', \"weights_consistency_fn\": \"quadratic\", \"weights_minimum\": '0.5' },\n",
    "    {\"no_distillation\": 'False', \"distil_target_mode\": \"soft\", \"weights_mode\": \"pred_merged\", \"weights_neighbourhood\": '2', \"weights_consistency_fn\": \"absolute\", \"weights_minimum\": '0.5' },\n",
    "    {\"no_distillation\": 'False', \"distil_target_mode\": \"soft\", \"weights_mode\": \"pred_merged\", \"weights_neighbourhood\": '2', \"weights_consistency_fn\": \"quadratic\", \"weights_minimum\": '0.5' },\n",
    "    {\"no_distillation\": 'True' },\n",
    "    {\"type\": \"no_sparse\"},\n",
    "    {\"type\": \"lset\"},\n",
    "]\n"
   ]
  },
  {
   "cell_type": "code",
   "execution_count": 5,
   "metadata": {},
   "outputs": [],
   "source": [
    "import numpy as np\n",
    "def get_best_test_score(exp, **kwargs):\n",
    "    best_scores = exp.get_reeval_metric(\"test_hard_dice\", **kwargs)\n",
    "    if best_scores is None:\n",
    "        return None\n",
    "    if np.any(best_scores < 0):\n",
    "        print(best_scores)\n",
    "        raise ValueError(\"less than 0\")\n",
    "    return best_scores.reshape(-1, 1)\n",
    "\n",
    "def base_exp_fn(exp_reader, **kwargs):\n",
    "    if \"type\" in kwargs:\n",
    "        if kwargs[\"type\"] == \"no_sparse\":\n",
    "            return get_best_test_score(base_exp)\n",
    "        elif kwargs[\"type\"] == \"lset\":\n",
    "            return get_best_test_score(lset_exp, n_calibration=kwargs[\"n_calibration\"])\n",
    "    return get_best_test_score(exp_reader, **kwargs)"
   ]
  },
  {
   "cell_type": "code",
   "execution_count": 6,
   "metadata": {},
   "outputs": [
    {
     "data": {
      "text/plain": [
       "'$79.78 \\\\pm 0.38$'"
      ]
     },
     "execution_count": 6,
     "metadata": {},
     "output_type": "execute_result"
    }
   ],
   "source": [
    "pm_template = \"${:2.2f} \\\\pm {:2.2f}$\"\n",
    "bl = get_best_test_score(base_exp)\n",
    "bl_avg, bl_std = np.mean(bl, axis=0), np.std(bl, axis=0)\n",
    "bl_best = np.argmax(bl_avg)\n",
    "bl_avg__, bl_std__ = bl_avg[bl_best] * 100, bl_std[bl_best] * 100\n",
    "bl_score = pm_template.format(bl_avg__, bl_std__)\n",
    "bl_score"
   ]
  },
  {
   "cell_type": "code",
   "execution_count": 7,
   "metadata": {},
   "outputs": [],
   "source": [
    "from functools import partial\n",
    "hard_exp_fn = partial(base_exp_fn, hard_exp)\n",
    "nogt_exp_fn = partial(base_exp_fn, nogt_exp)\n",
    "columns = [\n",
    "    (nogt_exp_fn, {\"segpc_nc\": '30', \"segpc_rr\": '1.0', \"n_calibration\": '5'}),\n",
    "    (nogt_exp_fn, {\"segpc_nc\": '30', \"segpc_rr\": '1.0', \"n_calibration\": '0'}),\n",
    "    (hard_exp_fn, {\"segpc_nc\": '30', \"segpc_rr\": '0.9', \"n_calibration\": '5'}),\n",
    "    (hard_exp_fn, {\"segpc_nc\": '30', \"segpc_rr\": '0.9', \"n_calibration\": '0'}),\n",
    "    (hard_exp_fn, {\"segpc_nc\": '30', \"segpc_rr\": '0.75', \"n_calibration\": '5'}),\n",
    "    (hard_exp_fn, {\"segpc_nc\": '30', \"segpc_rr\": '0.75', \"n_calibration\": '0'}),\n",
    "]\n"
   ]
  },
  {
   "cell_type": "code",
   "execution_count": 8,
   "metadata": {},
   "outputs": [
    {
     "name": "stdout",
     "output_type": "stream",
     "text": [
      "\\begin{table*}\n",
      "\\begin{tabular}{|ccc|cccccc|}\n",
      "\\multicolumn{3}{|c|}{$|\\mathcal{D}_l|/|\\mathcal{D}_s|$} & 25/268 & 30/268 & 25/268 & 30/268 & 25/268 & 30/268\\\\\n",
      "\\multicolumn{3}{|c|}{$\\rho$} & 100\\% & 100\\% &  90\\% &  90\\% &  75\\% &  75\\%\\\\\n",
      "\\multicolumn{3}{|c|}{$|\\mathcal{D}_{cal}|$} & 5 & 0 & 5 & 0 & 5 & 0\\\\\n",
      "\\hline\n",
      "\\multicolumn{9}{|l|}{Constant ($C$)} \\\\\n",
      "\\hline\n",
      "            \\multicolumn{3}{|c|}{$0.05$}  &                     &                    & 70.92 ± 1.02 &                    & 71.23 ± 0.97 &                    \\\\\n",
      "             \\multicolumn{3}{|c|}{$0.2$}  &                     &                    & 70.68 ± 1.15 &                    & 71.01 ± 0.90 &                    \\\\\n",
      "             \\multicolumn{3}{|c|}{$1.0$}  &  71.54 ± 1.41 &                    & 70.70 ± 1.14 &                    & 71.13 ± 1.19 &                    \\\\\n",
      "\\hline\n",
      "\\multicolumn{9}{|l|}{Balance} \\\\\n",
      "\\hline\n",
      "                                     & &  &                     &                    & 71.31 ± 0.91 &                    & 71.45 ± 1.22 &                    \\\\\n",
      "\\hline\n",
      "\\multicolumn{9}{|l|}{Entropy - $w_{\\text{min}}$} \\\\\n",
      "\\hline\n",
      "             \\multicolumn{3}{|c|}{$0.1$}  &  71.55 ± 1.34 &                    & 70.66 ± 1.36 &                    & 70.81 ± 1.37 &                    \\\\\n",
      "             \\multicolumn{3}{|c|}{$0.5$}  &  71.71 ± 1.25 &                    & 70.88 ± 1.07 &                    & 70.98 ± 1.24 &                    \\\\\n",
      "\\hline\n",
      "\\multicolumn{9}{|l|}{Consistency - $\\eta, c(y_1, y_2)$} \\\\\n",
      "\\hline\n",
      "    $2$ & \\multicolumn{2}{c|}{$\\cdot^2$}  &                     &                    & 70.57 ± 1.27 &                    & 70.85 ± 1.46 &                    \\\\\n",
      "\\hline\n",
      "\\multicolumn{9}{|l|}{Merged - $w_{\\text{min}}, \\eta, c(y_1, y_2)$} \\\\\n",
      "\\hline\n",
      "                 $0.1$ & $2$ & $\\cdot^2$  &  71.17 ± 1.18 &                    & 71.00 ± 1.18 &                    & 70.93 ± 1.21 &                    \\\\\n",
      "                 $0.5$ & $2$ & $\\cdot^2$  &  71.83 ± 1.25 &                    & 70.75 ± 0.96 &                    & 71.04 ± 1.42 &                    \\\\\n",
      "\\hline\n",
      "\\multicolumn{9}{|l|}{Constant ($C$)} \\\\\n",
      "\\hline\n",
      "            \\multicolumn{3}{|c|}{$0.05$}  &                     &                    & 73.72 ± 0.49 & 74.34 ± 0.86 & 74.37 ± 0.59 & 74.78 ± 0.89 \\\\\n",
      "             \\multicolumn{3}{|c|}{$0.2$}  &                     &                    & 74.15 ± 0.53 & 74.97 ± 0.89 & 74.87 ± 0.95 & 75.07 ± 0.69 \\\\\n",
      "             \\multicolumn{3}{|c|}{$1.0$}  &                     &                    & 73.25 ± 1.31 & 74.66 ± 1.24 & 74.71 ± 0.77 & 75.55 ± 0.98 \\\\\n",
      "\\hline\n",
      "\\multicolumn{9}{|l|}{Balance} \\\\\n",
      "\\hline\n",
      "                                     & &  &                     &                    & 72.97 ± 0.68 & 74.08 ± 1.01 & 73.90 ± 0.76 & 74.70 ± 0.88 \\\\\n",
      "\\hline\n",
      "\\multicolumn{9}{|l|}{Entropy - $w_{\\text{min}}$} \\\\\n",
      "\\hline\n",
      "             \\multicolumn{3}{|c|}{$0.1$}  &                     &                    & 73.91 ± 0.61 & 74.81 ± 1.00 & 74.18 ± 1.01 & 75.05 ± 0.78 \\\\\n",
      "             \\multicolumn{3}{|c|}{$0.5$}  &                     &                    & 74.60 ± 0.75 & 74.83 ± 1.05 & 75.43 ± 1.18 & 75.42 ± 1.02 \\\\\n",
      "\\hline\n",
      "\\multicolumn{9}{|l|}{Consistency - $\\eta, c(y_1, y_2)$} \\\\\n",
      "\\hline\n",
      "    $2$ & \\multicolumn{2}{c|}{$\\cdot^2$}  &                     &                    & 73.62 ± 0.84 & 74.61 ± 0.50 & 75.32 ± 0.56 & 75.83 ± 0.72 \\\\\n",
      "\\hline\n",
      "\\multicolumn{9}{|l|}{Merged - $w_{\\text{min}}, \\eta, c(y_1, y_2)$} \\\\\n",
      "\\hline\n",
      "                 $0.1$ & $2$ & $\\cdot^2$  &                     &                    & 73.80 ± 0.49 & 74.59 ± 0.91 & 74.49 ± 0.89 & 74.96 ± 0.69 \\\\\n",
      "                 $0.5$ & $2$ & $\\cdot^2$  &                     &                    & 74.27 ± 0.72 & 74.73 ± 0.83 & 75.32 ± 0.77 & 75.68 ± 0.86 \\\\\n",
      "\\hline\n",
      "\\multicolumn{9}{|l|}{Baselines} \\\\\n",
      "\\hline\n",
      "  \\multicolumn{3}{|c|}{No self-training}  &                     &                    & 70.84 ± 1.20 & 71.46 ± 1.09 & 73.62 ± 0.90 & 74.24 ± 1.35 \\\\\n",
      "                                     & &  &  79.78 ± 0.38 & 79.78 ± 0.38 & 79.78 ± 0.38 & 79.78 ± 0.38 & 79.78 ± 0.38 & 79.78 ± 0.38 \\\\\n",
      "                                     & &  &  70.88 ± 0.92 & 71.93 ± 1.42 & 70.88 ± 0.92 & 71.93 ± 1.42 & 70.88 ± 0.92 & 71.93 ± 1.42 \\\\\n",
      "\\end{tabular}\n",
      "\\end{table*}\n"
     ]
    }
   ],
   "source": [
    "plot_table(rows, columns, 298)"
   ]
  },
  {
   "cell_type": "code",
   "execution_count": 9,
   "metadata": {},
   "outputs": [],
   "source": [
    "sub_rows = [\n",
    "    columns[0:2],\n",
    "    columns[2:4],\n",
    "    columns[4:6]\n",
    "]"
   ]
  },
  {
   "cell_type": "code",
   "execution_count": 10,
   "metadata": {},
   "outputs": [
    {
     "name": "stdout",
     "output_type": "stream",
     "text": [
      "[(79.77645118433028, 0.383871317455094), (71.83078670768117, 1.2498998169150566), (71.17058459794454, 1.1787621616302808), (-1, -1), (71.92635225975162, 1.4174878110979763)]\n",
      "[(79.77645118433028, 0.383871317455094), (74.9652372381685, 0.8930488347003378), (70.56691853280229, 1.2717121615798355), (71.46096438813468, 1.0900470686222943), (71.92635225975162, 1.4174878110979763)]\n",
      "[(79.77645118433028, 0.383871317455094), (75.82936871429044, 0.7177005920256008), (70.811954561232, 1.3678155215687386), (74.24293905003698, 1.3499904778312688), (71.92635225975162, 1.4174878110979763)]\n"
     ]
    }
   ],
   "source": [
    "def _get_for_a_given_row(row_idx, more_params):\n",
    "    arrays = [eval_fn(**params, **rows[row_idx]) for eval_fn, params in more_params]\n",
    "    arrays = [a for a in arrays if a is not None]\n",
    "    if len(arrays) == 0:\n",
    "        return np.array([])\n",
    "    _meanstd = [(np.mean(a) * 100, np.std(a) * 100) for a in arrays]\n",
    "    return sorted(_meanstd, key=lambda v: v[0])[-1]\n",
    "\n",
    "all_row_values = list()\n",
    "data_per_row = []\n",
    "meta_per_row = []\n",
    "for row_elements in sub_rows:\n",
    "    row_values = [(bl_avg__, bl_std__)]\n",
    "    params_with_fn = [(eval_fn, {**row_elem_params, **hpparams}) for eval_fn, row_elem_params in row_elements for hpparams in rows[:-3]]\n",
    "    elems = [eval_fn(**params) for eval_fn, params in params_with_fn]\n",
    "    elems_params, elems = zip(*[(p, e)  for (_, p), e in zip(params_with_fn, elems) if e is not None])\n",
    "    if len(elems) == 0:\n",
    "        print(\"empty_row\")\n",
    "        continue\n",
    "    meanstd = [(np.mean(e) * 100, np.std(e) * 100) for e in elems]\n",
    "    args = sorted(range(len(meanstd)), key=lambda i: meanstd[i][0])\n",
    "    smeanstd = [meanstd[i] for i in args]\n",
    "    elems_params = [elems_params[i] for i in args]\n",
    "    row_values.append(tuple(smeanstd[-1]))\n",
    "    row_values.append(tuple(smeanstd[0]))\n",
    "    data_per_row.append([])\n",
    "    data_per_row[-1].append((\"self-training\", \"blue\", \"o\", smeanstd))\n",
    "    meta_per_row.append((row_elements[0][1], elems_params))\n",
    "        \n",
    "    bl2smeanstd = _get_for_a_given_row(-3, row_elements)\n",
    "    if len(bl2smeanstd) > 0:\n",
    "        data_per_row[-1].append((\"no self-training\", \"green\", \"*\", [bl2smeanstd]))\n",
    "        row_values.append(tuple(bl2smeanstd))\n",
    "    else:\n",
    "        row_values.append((-1, -1))\n",
    "    \n",
    "    bl3smeanstd = _get_for_a_given_row(-1, row_elements)\n",
    "    if len(bl3smeanstd) > 0:\n",
    "        data_per_row[-1].append((\"only labeled\", \"orange\", \"v\", [bl3smeanstd]))\n",
    "        row_values.append(tuple(bl3smeanstd))\n",
    "    data_per_row[-1].append((\"all data\", \"red\", \"^\", [(bl_avg__, bl_std__)]))\n",
    "\n",
    "    print(row_values)\n",
    "    all_row_values.append(row_values)\n",
    "    "
   ]
  },
  {
   "cell_type": "code",
   "execution_count": 11,
   "metadata": {},
   "outputs": [],
   "source": [
    "from matplotlib import pyplot as plt\n",
    "\n",
    "def plot(current_row, metadata):\n",
    "    plt.figure()    \n",
    "    nst = len(current_row[1])\n",
    "    x_min = 0\n",
    "    style_params = {\"ecolor\": \"gray\", \"capsize\": 3}\n",
    "    for label, color, marker, data in current_row:\n",
    "        if len(data) > 1:\n",
    "            x = np.arange(x_min, x_min + len(data))\n",
    "        else:\n",
    "            x = [x_min]\n",
    "        x_min += len(data)\n",
    "        \n",
    "        plt.errorbar(x, *zip(*data), linestyle='None', label=label, marker=marker, color=color, **style_params)   \n",
    "    \n",
    "    plt.title(\"$\\\\rho = \" + str(int(float(metadata[\"segpc_rr\"]) * 100)) + \"\\%$\")\n",
    "    plt.grid()\n",
    "    plt.tick_params(\n",
    "        axis='x',          # changes apply to the x-axis\n",
    "        which='both',      # both major and minor ticks are affected\n",
    "        bottom=False,      # ticks along the bottom edge are off\n",
    "        top=False,         # ticks along the top edge are off\n",
    "        labelbottom=False) # labels along the bottom edge are off\n",
    "    plt.gca().xaxis.grid(False)\n",
    "    plt.ylabel(\"Dice\")\n",
    "    plt.legend()\n",
    "    plt.show()"
   ]
  },
  {
   "cell_type": "code",
   "execution_count": 12,
   "metadata": {},
   "outputs": [
    {
     "data": {
      "image/png": "[encoded data removed]",
      "text/plain": [
       "<Figure size 432x288 with 1 Axes>"
      ]
     },
     "metadata": {
      "needs_background": "light"
     },
     "output_type": "display_data"
    },
    {
     "data": {
      "image/png": "[encoded data removed]",
      "text/plain": [
       "<Figure size 432x288 with 1 Axes>"
      ]
     },
     "metadata": {
      "needs_background": "light"
     },
     "output_type": "display_data"
    },
    {
     "data": {
      "image/png": "[encoded data removed]",
      "text/plain": [
       "<Figure size 432x288 with 1 Axes>"
      ]
     },
     "metadata": {
      "needs_background": "light"
     },
     "output_type": "display_data"
    }
   ],
   "source": [
    "for i in range(len(data_per_row)):   \n",
    "    plot(data_per_row[i], meta_per_row[i][0])"
   ]
  },
  {
   "cell_type": "code",
   "execution_count": 13,
   "metadata": {},
   "outputs": [],
   "source": [
    "prop_cycle = plt.rcParams['axes.prop_cycle']\n",
    "colors = prop_cycle.by_key()['color']\n",
    "\n",
    "style_maps = {\n",
    "    \"weights_mode\": {\n",
    "        'constant': {'color': colors[0]},\n",
    "        'balance_gt': {'color': colors[1]},\n",
    "        'pred_entropy': {'color': colors[2]},\n",
    "        'pred_consistency': {'color': colors[3]},\n",
    "        'pred_merged': {'color': colors[4]}\n",
    "    },\n",
    "    \"distil_target_mode\": {\n",
    "        'hard_dice': {'marker': '^'},\n",
    "        'soft': {'marker': 'o'}\n",
    "    }\n",
    "}\n",
    "\n",
    "def get_marker_style_params(params):\n",
    "    return {k: v for p in [\"weights_mode\", \"distil_target_mode\"] for k,v in style_maps[p][params[p]].items()}\n",
    "\n",
    "def plot(all_data, col_params, all_params):\n",
    "    plt.figure()\n",
    "    style_params = {\"ecolor\": \"gray\", \"capsize\": 3}\n",
    "    for i, ((s, e), params) in enumerate(zip(all_data[3], all_params)):\n",
    "        mode = { 'pred_consistency': 'csty', 'pred_entropy': 'entr', 'balance_gt': 'bala', 'pred_merged': 'merg', 'constant': 'csnt'\n",
    "    }[params[\"weights_mode\"]]\n",
    "        dtarget = \"soft\" if params[\"distil_target_mode\"] == \"soft\" else \"hard\"\n",
    "        label = \"{}/{}\".format(mode, dtarget)\n",
    "        plt.errorbar(i, s, e, linestyle='None', label=label, **get_marker_style_params(params), **style_params)   \n",
    "    \n",
    "    plt.title(\"$\\\\rho = \" + str(int(float(col_params[\"segpc_rr\"]) * 100)) + \"\\%$\")\n",
    "    plt.grid()\n",
    "    plt.tick_params(\n",
    "        axis='x',          # changes apply to the x-axis\n",
    "        which='both',      # both major and minor ticks are affected\n",
    "        bottom=False,      # ticks along the bottom edge are off\n",
    "        top=False,         # ticks along the top edge are off\n",
    "        labelbottom=False) # labels along the bottom edge are off\n",
    "    plt.gca().xaxis.grid(False)\n",
    "    plt.ylim(69, 81)\n",
    "    handles, labels = plt.gca().get_legend_handles_labels()\n",
    "    by_label = dict(zip(labels, handles))\n",
    "    plt.legend(by_label.values(), by_label.keys(), ncol=2)\n",
    "    plt.ylabel(\"Dice\")\n",
    "    plt.show()"
   ]
  },
  {
   "cell_type": "code",
   "execution_count": 14,
   "metadata": {},
   "outputs": [
    {
     "data": {
      "image/png": "[encoded data removed]",
      "text/plain": [
       "<Figure size 432x288 with 1 Axes>"
      ]
     },
     "metadata": {
      "needs_background": "light"
     },
     "output_type": "display_data"
    },
    {
     "data": {
      "image/png": "[encoded data removed]",
      "text/plain": [
       "<Figure size 432x288 with 1 Axes>"
      ]
     },
     "metadata": {
      "needs_background": "light"
     },
     "output_type": "display_data"
    },
    {
     "data": {
      "image/png": "[encoded data removed]",
      "text/plain": [
       "<Figure size 432x288 with 1 Axes>"
      ]
     },
     "metadata": {
      "needs_background": "light"
     },
     "output_type": "display_data"
    }
   ],
   "source": [
    "for i in range(len(data_per_row)):  \n",
    "    plot(data_per_row[i][0], *meta_per_row[i])"
   ]
  },
  {
   "cell_type": "code",
   "execution_count": 15,
   "metadata": {},
   "outputs": [
    {
     "name": "stdout",
     "output_type": "stream",
     "text": [
      "\\begin{table*}\n",
      "\\centering\n",
      "\\begin{tabular}{|ccccccc|}\n",
      "\\hline\n",
      "\\multirow{2}{*}{$\\mathcal{D}_s$} & \\multirow{2}{*}{$\\rho$} & \\multicolumn{2}{c|}{Self-training} & \\multicolumn{3}{c|}{No self-training - baselines} \\\\\n",
      "\\cline{3-7}\n",
      "  &   & Best & Worst & $|\\mathcal{D}_s| = 0$ & $\\mathcal{D}_l \\cup \\mathcal{D}_{cal} \\cup \\mathcal{D}_s$ & $\\mathcal{D}_l \\cup \\mathcal{D}_{cal}$ \\\\\n",
      "\\hline\n",
      "268 & 100\\% & $71.83 \\pm 1.25$ & $71.17 \\pm 1.18$ & \\multirow{3}{*}{$79.78 \\pm 0.38$} & / & \\multirow{3}{*}{$71.93 \\pm 1.42$}\\\\\n",
      "268 & 90\\% & $74.97 \\pm 0.89$ & $70.57 \\pm 1.27$ &   & $71.46 \\pm 1.09$ & \\\\\n",
      "268 & 75\\% & $75.83 \\pm 0.72$ & $70.81 \\pm 1.37$ &   & $74.24 \\pm 1.35$ & \\\\\n",
      "\\hline\n",
      "\\end{tabular}\n",
      "\\end{table*}\n"
     ]
    }
   ],
   "source": [
    "max_cols_number = max([len(v) for v in all_row_values])\n",
    "header_cols = [\"\\\\multirow{2}{*}{\" + s + \"}\" for s in [\"$\\\\mathcal{D}_s$\", \"$\\\\rho$\"]]\n",
    "header_cols.append(\"\\\\multicolumn{2}{c|}{Self-training}\")\n",
    "header_cols.append(\"\\\\multicolumn{3}{c|}{No self-training - baselines}\")\n",
    "header2_cols = ([\" \"]) * 2 + [\"Best\", \"Worst\", \"$|\\\\mathcal{D}_s| = 0$\", \"$\\\\mathcal{D}_l \\cup \\\\mathcal{D}_{cal} \\cup \\\\mathcal{D}_s$\", \"$\\\\mathcal{D}_l \\cup \\\\mathcal{D}_{cal}$\"] \n",
    "\n",
    "\n",
    "def print_cell(v1, v2):\n",
    "    print(pm_template.format(v1, v2) if v1 >= 0 else \"/\", end=\" & \") \n",
    "\n",
    "print(\"\\\\begin{table*}\")\n",
    "print(\"\\\\centering\")\n",
    "print(\"\\\\begin{tabular}{|\" + (\"c\" * len(header2_cols)  + \"|}\"))\n",
    "print(\"\\\\hline\")\n",
    "print(\" & \".join(header_cols) + \" \\\\\\\\\")\n",
    "print(\"\\\\cline{3-7}\")\n",
    "print(\" & \".join(header2_cols) + \" \\\\\\\\\")\n",
    "print(\"\\\\hline\")\n",
    "ncs = {int(sub_row_data[0][1][\"segpc_nc\"]) for sub_row_data in sub_rows}\n",
    "multirow_last_col = {nc: len([_ for sub_row_data in sub_rows if int(sub_row_data[0][1][\"segpc_nc\"]) == nc]) for nc in ncs}\n",
    "prev_key = None\n",
    "for i, (sub_row_data, row_values) in enumerate(zip(sub_rows, all_row_values)): \n",
    "    print(298 - int(sub_row_data[0][1][\"segpc_nc\"]), end=\" & \")\n",
    "    print(str(int(float(sub_row_data[0][1][\"segpc_rr\"]) * 100)) + \"\\%\" , end=\" & \")\n",
    "    print_cell(*row_values[1])\n",
    "    print_cell(*row_values[2])\n",
    "    if i == 0:\n",
    "        print(\"\\\\multirow{\" + str(len(sub_rows)) + \"}{*}{\" + pm_template.format(row_values[0][0], row_values[0][1]) + \"}\", end=\" & \")\n",
    "    else: \n",
    "        print(\"  & \", end=\"\")\n",
    "    print_cell(*row_values[3])\n",
    "    curr_key = int(sub_row_data[0][1][\"segpc_nc\"])\n",
    "    if prev_key != curr_key and multirow_last_col[curr_key] > 1:\n",
    "        print(\"\\\\multirow{\" + str(multirow_last_col[curr_key]) + \"}{*}{\" + pm_template.format(row_values[-1][0], row_values[-1][1]) + \"}\", end=\"\")\n",
    "        prev_key = curr_key\n",
    "    elif multirow_last_col[curr_key] == 1:\n",
    "        prev_key = curr_key\n",
    "        print(pm_template.format(row_values[-1][0], row_values[-1][1]), end=\"\")\n",
    "    print(\"\\\\\\\\\")\n",
    "print(\"\\\\hline\")\n",
    "print(\"\\\\end{tabular}\")\n",
    "print(\"\\\\end{table*}\")"
   ]
  },
  {
   "cell_type": "code",
   "execution_count": null,
   "metadata": {},
   "outputs": [],
   "source": []
  },
  {
   "cell_type": "code",
   "execution_count": null,
   "metadata": {},
   "outputs": [],
   "source": []
  },
  {
   "cell_type": "code",
   "execution_count": null,
   "metadata": {},
   "outputs": [],
   "source": []
  }
 ],
 "metadata": {
  "kernelspec": {
   "display_name": "Python [conda env:root]",
   "language": "python",
   "name": "conda-root-py"
  },
  "language_info": {
   "codemirror_mode": {
    "name": "ipython",
    "version": 3
   },
   "file_extension": ".py",
   "mimetype": "text/x-python",
   "name": "python",
   "nbconvert_exporter": "python",
   "pygments_lexer": "ipython3",
   "version": "3.9.7"
  }
 },
 "nbformat": 4,
 "nbformat_minor": 4
}
