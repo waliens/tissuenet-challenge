{
 "cells": [
  {
   "cell_type": "code",
   "execution_count": 17,
   "metadata": {
    "scrolled": true
   },
   "outputs": [],
   "source": [
    "from train_segpc_hard_clustertools import weight_exclude, exclude_target_and_dice_calibration\n",
    "from train_segpc_hard_clustertools import no_distillation_filter, min_weight_only_for_entropy\n",
    "from train_segpc_hard_clustertools import SegpcDatasetConstraint\n",
    "from train_monuseg_hard_clustertools import filter_nc_rr\n",
    "from ipnb_helpers import ExperimentReader, plot_table"
   ]
  },
  {
   "cell_type": "code",
   "execution_count": 18,
   "metadata": {},
   "outputs": [],
   "source": [
    "import __main__\n",
    "setattr(__main__, \"weight_exclude\", weight_exclude)\n",
    "setattr(__main__, \"exclude_target_and_dice_calibration\", exclude_target_and_dice_calibration)\n",
    "setattr(__main__, \"no_distillation_filter\", no_distillation_filter)\n",
    "setattr(__main__, \"filter_nc_rr\", filter_nc_rr)\n",
    "setattr(__main__, \"min_weight_only_for_entropy\", min_weight_only_for_entropy)\n",
    "setattr(__main__, \"SegpcDatasetConstraint\", SegpcDatasetConstraint)\n"
   ]
  },
  {
   "cell_type": "code",
   "execution_count": 19,
   "metadata": {},
   "outputs": [],
   "source": [
    "#baseline = ExperimentReader(\"monuseg-unet-baseline\", \"monuseg-reeval-baseline\", \"rseed\")\n",
    "hard_exp = ExperimentReader(\"segpc-unet-hard\", \"segpc-reeval-hard\", \"segpc_ms\")\n",
    "nogt_exp = ExperimentReader(\"segpc-unet-nogt\", \"segpc-reeval-nogt\", \"segpc_ms\")\n"
   ]
  },
  {
   "cell_type": "code",
   "execution_count": 20,
   "metadata": {},
   "outputs": [],
   "source": [
    "rows = [\n",
    "    {\"no_distillation\": 'False', \"distil_target_mode\": \"hard_dice\", \"weights_mode\": \"constant\", \"weights_constant\": '0.05'},\n",
    "    {\"no_distillation\": 'False', \"distil_target_mode\": \"hard_dice\", \"weights_mode\": \"constant\", \"weights_constant\": '0.2'},\n",
    "    {\"no_distillation\": 'False', \"distil_target_mode\": \"hard_dice\", \"weights_mode\": \"constant\", \"weights_constant\": '0.5'},\n",
    "    {\"no_distillation\": 'False', \"distil_target_mode\": \"hard_dice\", \"weights_mode\": \"constant\", \"weights_constant\": '1.0'},\n",
    "    {\"no_distillation\": 'False', \"distil_target_mode\": \"hard_dice\", \"weights_mode\": \"balance_gt\" },\n",
    "    {\"no_distillation\": 'False', \"distil_target_mode\": \"hard_dice\", \"weights_mode\": \"pred_entropy\", \"weights_minimum\": '0.1' },\n",
    "    {\"no_distillation\": 'False', \"distil_target_mode\": \"hard_dice\", \"weights_mode\": \"pred_entropy\", \"weights_minimum\": '0.5' },\n",
    "    {\"no_distillation\": 'False', \"distil_target_mode\": \"hard_dice\", \"weights_mode\": \"pred_consistency\", \"weights_neighbourhood\": '1', \"weights_consistency_fn\": \"absolute\", \"weights_minimum\": '0.5' },\n",
    "    {\"no_distillation\": 'False', \"distil_target_mode\": \"hard_dice\", \"weights_mode\": \"pred_consistency\", \"weights_neighbourhood\": '1', \"weights_consistency_fn\": \"quadratic\", \"weights_minimum\": '0.5' },\n",
    "    {\"no_distillation\": 'False', \"distil_target_mode\": \"hard_dice\", \"weights_mode\": \"pred_consistency\", \"weights_neighbourhood\": '2', \"weights_consistency_fn\": \"absolute\", \"weights_minimum\": '0.5' },\n",
    "    {\"no_distillation\": 'False', \"distil_target_mode\": \"hard_dice\", \"weights_mode\": \"pred_consistency\", \"weights_neighbourhood\": '2', \"weights_consistency_fn\": \"quadratic\", \"weights_minimum\": '0.5' },\n",
    "    {\"no_distillation\": 'False', \"distil_target_mode\": \"hard_dice\", \"weights_mode\": \"pred_merged\", \"weights_neighbourhood\": '1', \"weights_consistency_fn\": \"absolute\", \"weights_minimum\": '0.1' },\n",
    "    {\"no_distillation\": 'False', \"distil_target_mode\": \"hard_dice\", \"weights_mode\": \"pred_merged\", \"weights_neighbourhood\": '1', \"weights_consistency_fn\": \"quadratic\", \"weights_minimum\": '0.1' },\n",
    "    {\"no_distillation\": 'False', \"distil_target_mode\": \"hard_dice\", \"weights_mode\": \"pred_merged\", \"weights_neighbourhood\": '2', \"weights_consistency_fn\": \"absolute\", \"weights_minimum\": '0.1' },\n",
    "    {\"no_distillation\": 'False', \"distil_target_mode\": \"hard_dice\", \"weights_mode\": \"pred_merged\", \"weights_neighbourhood\": '2', \"weights_consistency_fn\": \"quadratic\", \"weights_minimum\": '0.1' },\n",
    "    {\"no_distillation\": 'False', \"distil_target_mode\": \"hard_dice\", \"weights_mode\": \"pred_merged\", \"weights_neighbourhood\": '1', \"weights_consistency_fn\": \"absolute\", \"weights_minimum\": '0.5' },\n",
    "    {\"no_distillation\": 'False', \"distil_target_mode\": \"hard_dice\", \"weights_mode\": \"pred_merged\", \"weights_neighbourhood\": '1', \"weights_consistency_fn\": \"quadratic\", \"weights_minimum\": '0.5' },\n",
    "    {\"no_distillation\": 'False', \"distil_target_mode\": \"hard_dice\", \"weights_mode\": \"pred_merged\", \"weights_neighbourhood\": '2', \"weights_consistency_fn\": \"absolute\", \"weights_minimum\": '0.5' },\n",
    "    {\"no_distillation\": 'False', \"distil_target_mode\": \"hard_dice\", \"weights_mode\": \"pred_merged\", \"weights_neighbourhood\": '2', \"weights_consistency_fn\": \"quadratic\", \"weights_minimum\": '0.5' },\n",
    "    {\"no_distillation\": 'False', \"distil_target_mode\": \"soft\", \"weights_mode\": \"constant\", \"weights_constant\": '0.05'},\n",
    "    {\"no_distillation\": 'False', \"distil_target_mode\": \"soft\", \"weights_mode\": \"constant\", \"weights_constant\": '0.2'},\n",
    "    {\"no_distillation\": 'False', \"distil_target_mode\": \"soft\", \"weights_mode\": \"constant\", \"weights_constant\": '0.5'},\n",
    "    {\"no_distillation\": 'False', \"distil_target_mode\": \"soft\", \"weights_mode\": \"constant\", \"weights_constant\": '1.0'},\n",
    "    {\"no_distillation\": 'False', \"distil_target_mode\": \"soft\", \"weights_mode\": \"balance_gt\" },\n",
    "    {\"no_distillation\": 'False', \"distil_target_mode\": \"soft\", \"weights_mode\": \"pred_entropy\", \"weights_minimum\": '0.1' },\n",
    "    {\"no_distillation\": 'False', \"distil_target_mode\": \"soft\", \"weights_mode\": \"pred_entropy\", \"weights_minimum\": '0.5' },\n",
    "    {\"no_distillation\": 'False', \"distil_target_mode\": \"soft\", \"weights_mode\": \"pred_consistency\", \"weights_neighbourhood\": '1', \"weights_consistency_fn\": \"absolute\", \"weights_minimum\": '0.5' },\n",
    "    {\"no_distillation\": 'False', \"distil_target_mode\": \"soft\", \"weights_mode\": \"pred_consistency\", \"weights_neighbourhood\": '1', \"weights_consistency_fn\": \"quadratic\", \"weights_minimum\": '0.5' },\n",
    "    {\"no_distillation\": 'False', \"distil_target_mode\": \"soft\", \"weights_mode\": \"pred_consistency\", \"weights_neighbourhood\": '2', \"weights_consistency_fn\": \"absolute\", \"weights_minimum\": '0.5' },\n",
    "    {\"no_distillation\": 'False', \"distil_target_mode\": \"soft\", \"weights_mode\": \"pred_consistency\", \"weights_neighbourhood\": '2', \"weights_consistency_fn\": \"quadratic\", \"weights_minimum\": '0.5' },\n",
    "    {\"no_distillation\": 'False', \"distil_target_mode\": \"soft\", \"weights_mode\": \"pred_merged\", \"weights_neighbourhood\": '1', \"weights_consistency_fn\": \"absolute\", \"weights_minimum\": '0.1' },\n",
    "    {\"no_distillation\": 'False', \"distil_target_mode\": \"soft\", \"weights_mode\": \"pred_merged\", \"weights_neighbourhood\": '1', \"weights_consistency_fn\": \"quadratic\", \"weights_minimum\": '0.1' },\n",
    "    {\"no_distillation\": 'False', \"distil_target_mode\": \"soft\", \"weights_mode\": \"pred_merged\", \"weights_neighbourhood\": '2', \"weights_consistency_fn\": \"absolute\", \"weights_minimum\": '0.1' },\n",
    "    {\"no_distillation\": 'False', \"distil_target_mode\": \"soft\", \"weights_mode\": \"pred_merged\", \"weights_neighbourhood\": '2', \"weights_consistency_fn\": \"quadratic\", \"weights_minimum\": '0.1' },\n",
    "    {\"no_distillation\": 'False', \"distil_target_mode\": \"soft\", \"weights_mode\": \"pred_merged\", \"weights_neighbourhood\": '1', \"weights_consistency_fn\": \"absolute\", \"weights_minimum\": '0.5' },\n",
    "    {\"no_distillation\": 'False', \"distil_target_mode\": \"soft\", \"weights_mode\": \"pred_merged\", \"weights_neighbourhood\": '1', \"weights_consistency_fn\": \"quadratic\", \"weights_minimum\": '0.5' },\n",
    "    {\"no_distillation\": 'False', \"distil_target_mode\": \"soft\", \"weights_mode\": \"pred_merged\", \"weights_neighbourhood\": '2', \"weights_consistency_fn\": \"absolute\", \"weights_minimum\": '0.5' },\n",
    "    {\"no_distillation\": 'False', \"distil_target_mode\": \"soft\", \"weights_mode\": \"pred_merged\", \"weights_neighbourhood\": '2', \"weights_consistency_fn\": \"quadratic\", \"weights_minimum\": '0.5' },\n",
    "    {\"no_distillation\": 'True' },\n",
    "]\n"
   ]
  },
  {
   "cell_type": "code",
   "execution_count": 21,
   "metadata": {},
   "outputs": [],
   "source": [
    "hard_exp_fn = lambda **kwargs: hard_exp.get_metric(\"val_dice\", **kwargs)\n",
    "nogt_exp_fn = lambda **kwargs: nogt_exp.get_metric(\"val_dice\", **kwargs)\n",
    "columns = [\n",
    "    (nogt_exp_fn, {\"segpc_nc\": '30', \"segpc_rr\": '1.0', \"n_calibration\": '0'}),\n",
    "    (nogt_exp_fn, {\"segpc_nc\": '30', \"segpc_rr\": '1.0', \"n_calibration\": '5'}),\n",
    "    (hard_exp_fn, {\"segpc_nc\": '30', \"segpc_rr\": '0.9', \"n_calibration\": '0'}),\n",
    "    (hard_exp_fn, {\"segpc_nc\": '30', \"segpc_rr\": '0.9', \"n_calibration\": '5'}),\n",
    "]"
   ]
  },
  {
   "cell_type": "code",
   "execution_count": 22,
   "metadata": {
    "scrolled": true
   },
   "outputs": [
    {
     "name": "stdout",
     "output_type": "stream",
     "text": [
      "\\begin{table*}\n",
      "\\begin{tabular}{|ccc|cccc|}\n",
      "\\multicolumn{3}{|c|}{$|\\mathcal{D}_l|/|\\mathcal{D}_s|$} & 30/268 & 25/268 & 30/268 & 25/268\\\\\n",
      "\\multicolumn{3}{|c|}{$\\rho$} & 100\\% & 100\\% &  90\\% &  90\\%\\\\\n",
      "\\multicolumn{3}{|c|}{$|\\mathcal{D}_{cal}|$} & 0 & 5 & 0 & 5\\\\\n",
      "\\hline\n",
      "\\multicolumn{7}{|l|}{Constant ($C$)} \\\\\n",
      "\\hline\n",
      "            \\multicolumn{3}{|c|}{$0.05$}  &                     &                    &                    & 70.92 ± 1.65 \\\\\n",
      "             \\multicolumn{3}{|c|}{$0.2$}  &                     &                    &                    & 71.13 ± 1.04 \\\\\n",
      "             \\multicolumn{3}{|c|}{$1.0$}  &                     & 71.54 ± 1.59 &                    & 70.34 ± 1.53 \\\\\n",
      "\\hline\n",
      "\\multicolumn{7}{|l|}{Balance} \\\\\n",
      "\\hline\n",
      "                                     & &  &                     &                    &                    & 72.62 ± 0.65 \\\\\n",
      "\\hline\n",
      "\\multicolumn{7}{|l|}{Entropy - $w_{\\text{min}}$} \\\\\n",
      "\\hline\n",
      "             \\multicolumn{3}{|c|}{$0.1$}  &                     & 71.48 ± 1.12 &                    & 70.84 ± 1.01 \\\\\n",
      "             \\multicolumn{3}{|c|}{$0.5$}  &                     & 71.64 ± 1.34 &                    & 70.92 ± 1.62 \\\\\n",
      "\\hline\n",
      "\\multicolumn{7}{|l|}{Consistency - $\\eta, c(y_1, y_2)$} \\\\\n",
      "\\hline\n",
      "\\hline\n",
      "\\multicolumn{7}{|l|}{Merged - $w_{\\text{min}}, \\eta, c(y_1, y_2)$} \\\\\n",
      "\\hline\n",
      "                 $0.1$ & $2$ & $\\cdot^2$  &                     & 71.22 ± 1.32 &                    & 70.47 ± 1.66 \\\\\n",
      "                 $0.5$ & $2$ & $\\cdot^2$  &                     & 71.64 ± 1.57 &                    & 71.01 ± 1.41 \\\\\n",
      "\\hline\n",
      "\\multicolumn{7}{|l|}{Constant ($C$)} \\\\\n",
      "\\hline\n",
      "            \\multicolumn{3}{|c|}{$0.05$}  &                     &                    & 75.07 ± 1.17 & 74.25 ± 0.91 \\\\\n",
      "             \\multicolumn{3}{|c|}{$0.2$}  &                     &                    & 75.00 ± 1.44 & 74.52 ± 0.63 \\\\\n",
      "             \\multicolumn{3}{|c|}{$1.0$}  &                     &                    & 74.75 ± 1.39 & 74.24 ± 1.21 \\\\\n",
      "\\hline\n",
      "\\multicolumn{7}{|l|}{Balance} \\\\\n",
      "\\hline\n",
      "                                     & &  &                     &                    & 74.71 ± 1.23 & 73.62 ± 0.93 \\\\\n",
      "\\hline\n",
      "\\multicolumn{7}{|l|}{Entropy - $w_{\\text{min}}$} \\\\\n",
      "\\hline\n",
      "             \\multicolumn{3}{|c|}{$0.1$}  &                     &                    & 75.21 ± 1.33 & 74.52 ± 0.78 \\\\\n",
      "             \\multicolumn{3}{|c|}{$0.5$}  &                     &                    & 75.16 ± 1.34 & 75.04 ± 0.58 \\\\\n",
      "\\hline\n",
      "\\multicolumn{7}{|l|}{Consistency - $\\eta, c(y_1, y_2)$} \\\\\n",
      "\\hline\n",
      "\\hline\n",
      "\\multicolumn{7}{|l|}{Merged - $w_{\\text{min}}, \\eta, c(y_1, y_2)$} \\\\\n",
      "\\hline\n",
      "                 $0.1$ & $2$ & $\\cdot^2$  &                     &                    & 75.11 ± 1.30 & 74.35 ± 0.70 \\\\\n",
      "                 $0.5$ & $2$ & $\\cdot^2$  &                     &                    & 75.00 ± 1.29 & 74.70 ± 1.08 \\\\\n",
      "\\hline\n",
      "\\multicolumn{7}{|l|}{No self-training} \\\\\n",
      "\\hline\n",
      "                                     & &  &                     &                    & 72.11 ± 1.68 & 70.35 ± 0.00 \\\\\n",
      "\\end{tabular}\n",
      "\\end{table*}\n"
     ]
    }
   ],
   "source": [
    "plot_table(rows, columns, 298)"
   ]
  },
  {
   "cell_type": "code",
   "execution_count": 23,
   "metadata": {},
   "outputs": [
    {
     "data": {
      "text/plain": [
       "{'distil_target_mode': ['hard_dice', 'soft'],\n",
       " 'n_calibration': ['0', '5'],\n",
       " 'no_distillation': ['False', 'True'],\n",
       " 'segpc_ms': ['35920466',\n",
       "  '114075110',\n",
       "  '128718098',\n",
       "  '143269522',\n",
       "  '174759669',\n",
       "  '295382405',\n",
       "  '458682706',\n",
       "  '485606130',\n",
       "  '771665231',\n",
       "  '821266650'],\n",
       " 'weights_constant': ['0.05', '0.2', '1.0'],\n",
       " 'weights_minimum': ['0.0', '0.1', '0.5'],\n",
       " 'weights_mode': ['balance_gt', 'constant', 'pred_entropy', 'pred_merged']}"
      ]
     },
     "execution_count": 23,
     "metadata": {},
     "output_type": "execute_result"
    }
   ],
   "source": [
    "hard_exp._cube.domain"
   ]
  },
  {
   "cell_type": "code",
   "execution_count": 24,
   "metadata": {},
   "outputs": [
    {
     "data": {
      "text/plain": [
       "{'aug_blur_sigma_extent': '0.1',\n",
       " 'aug_hed_bias_range': '0.025',\n",
       " 'aug_hed_coef_range': '0.025',\n",
       " 'aug_noise_var_extent': '0.05',\n",
       " 'batch_size': '8',\n",
       " 'dataset': 'segpc',\n",
       " 'epochs': '100',\n",
       " 'init_fmaps': '8',\n",
       " 'iter_per_epoch': '150',\n",
       " 'loss': 'bce',\n",
       " 'lr': '0.001',\n",
       " 'lr_sched_cooldown': '10',\n",
       " 'lr_sched_factor': '0.5',\n",
       " 'lr_sched_patience': '5',\n",
       " 'no_groundtruth': 'False',\n",
       " 'overlap': '0',\n",
       " 'rseed': '42',\n",
       " 'save_cues': 'False',\n",
       " 'segpc_nc': '30',\n",
       " 'segpc_rr': '0.9',\n",
       " 'sparse_data_max': '1.0',\n",
       " 'sparse_data_rate': '1.0',\n",
       " 'sparse_start_after': '20',\n",
       " 'tile_size': '512',\n",
       " 'weights_consistency_fn': 'quadratic',\n",
       " 'weights_neighbourhood': '2',\n",
       " 'zoom_level': '0'}"
      ]
     },
     "execution_count": 24,
     "metadata": {},
     "output_type": "execute_result"
    }
   ],
   "source": [
    "hard_exp._cube.metadata"
   ]
  },
  {
   "cell_type": "code",
   "execution_count": 25,
   "metadata": {},
   "outputs": [
    {
     "data": {
      "text/plain": [
       "{'Missing ratio': 0.8333333333333334,\n",
       " 'At least one missing': {'distil_target_mode': ['hard_dice', 'soft'],\n",
       "  'segpc_ms': ['35920466',\n",
       "   '114075110',\n",
       "   '128718098',\n",
       "   '143269522',\n",
       "   '174759669',\n",
       "   '295382405',\n",
       "   '458682706',\n",
       "   '485606130',\n",
       "   '771665231',\n",
       "   '821266650'],\n",
       "  'weights_constant': ['0.05', '0.2', '1.0']},\n",
       " 'All there': {'distil_target_mode': [],\n",
       "  'segpc_ms': [],\n",
       "  'weights_constant': []}}"
      ]
     },
     "execution_count": 25,
     "metadata": {},
     "output_type": "execute_result"
    }
   ],
   "source": [
    "hard_exp._cube(\n",
    "    segpc_nc=\"30\", \n",
    "    n_calibration=\"0\", \n",
    "    segpc_rr=\"0.9\", \n",
    "    no_distillation=\"False\", \n",
    "    weights_mode=\"pred_merged\", \n",
    "    weights_neighbourhood=\"2\", \n",
    "    weights_minimum=\"0.5\").diagnose()"
   ]
  },
  {
   "cell_type": "code",
   "execution_count": null,
   "metadata": {},
   "outputs": [],
   "source": [
    "base"
   ]
  },
  {
   "cell_type": "code",
   "execution_count": null,
   "metadata": {},
   "outputs": [],
   "source": []
  },
  {
   "cell_type": "code",
   "execution_count": null,
   "metadata": {},
   "outputs": [],
   "source": []
  }
 ],
 "metadata": {
  "kernelspec": {
   "display_name": "Python [conda env:root]",
   "language": "python",
   "name": "conda-root-py"
  },
  "language_info": {
   "codemirror_mode": {
    "name": "ipython",
    "version": 3
   },
   "file_extension": ".py",
   "mimetype": "text/x-python",
   "name": "python",
   "nbconvert_exporter": "python",
   "pygments_lexer": "ipython3",
   "version": "3.9.7"
  }
 },
 "nbformat": 4,
 "nbformat_minor": 4
}