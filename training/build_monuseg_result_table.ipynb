{
 "cells": [
  {
   "cell_type": "code",
   "execution_count": 1,
   "metadata": {},
   "outputs": [],
   "source": [
    "from clustertools import build_datacube\n",
    "from clustertools.parameterset import build_parameter_set\n",
    "\n",
    "from pprint import pprint\n",
    "import numpy as np\n",
    "from train_monuseg_hard_clustertools import weight_exclude, exclude_target_and_dice_calibration\n",
    "from train_monuseg_hard_clustertools import no_distillation_filter, filter_nc_rr, min_weight_only_for_entropy, restrict_fn_absolute\n",
    "from train_monuseg_baseline_clustertools import min_weight_for_entropy, not_using_incomplete\n",
    "from ipnb_helpers import ExperimentReader, plot_table"
   ]
  },
  {
   "cell_type": "code",
   "execution_count": 2,
   "metadata": {
    "pycharm": {
     "name": "#%%\n"
    }
   },
   "outputs": [],
   "source": [
    "import __main__\n",
    "setattr(__main__, \"weight_exclude\", weight_exclude)\n",
    "setattr(__main__, \"exclude_target_and_dice_calibration\", exclude_target_and_dice_calibration)\n",
    "setattr(__main__, \"no_distillation_filter\", no_distillation_filter)\n",
    "setattr(__main__, \"filter_nc_rr\", filter_nc_rr)\n",
    "setattr(__main__, \"min_weight_only_for_entropy\", min_weight_only_for_entropy)\n",
    "setattr(__main__, \"min_weight_for_entropy\", min_weight_for_entropy)\n",
    "setattr(__main__, \"not_using_incomplete\", not_using_incomplete)\n",
    "setattr(__main__, \"restrict_fn_absolute\", restrict_fn_absolute)"
   ]
  },
  {
   "cell_type": "code",
   "execution_count": null,
   "metadata": {},
   "outputs": [],
   "source": [
    "baseline = ExperimentReader(\"monuseg-unet-baseline\", \"monuseg-reeval-baseline\", \"rseed\")\n",
    "hard_exp = ExperimentReader(\"monuseg-unet-hard\", \"monuseg-reeval-hard\", \"monu_ms\")\n",
    "nogt_exp = ExperimentReader(\"monuseg-unet-nogt\", \"monuseg-reeval-nogt\", \"monu_ms\")\n"
   ]
  },
  {
   "cell_type": "code",
   "execution_count": null,
   "metadata": {},
   "outputs": [],
   "source": [
    "rows = [\n",
    "    {\"no_distillation\": 'False', \"distil_target_mode\": \"hard_dice\", \"weights_mode\": \"constant\", \"weights_constant\": '0.05'},\n",
    "    {\"no_distillation\": 'False', \"distil_target_mode\": \"hard_dice\", \"weights_mode\": \"constant\", \"weights_constant\": '0.2'},\n",
    "    {\"no_distillation\": 'False', \"distil_target_mode\": \"hard_dice\", \"weights_mode\": \"constant\", \"weights_constant\": '0.5'},\n",
    "    {\"no_distillation\": 'False', \"distil_target_mode\": \"hard_dice\", \"weights_mode\": \"constant\", \"weights_constant\": '1.0'},\n",
    "    {\"no_distillation\": 'False', \"distil_target_mode\": \"hard_dice\", \"weights_mode\": \"balance_gt\" },\n",
    "    {\"no_distillation\": 'False', \"distil_target_mode\": \"hard_dice\", \"weights_mode\": \"pred_entropy\", \"weights_minimum\": '0.1' },\n",
    "    {\"no_distillation\": 'False', \"distil_target_mode\": \"hard_dice\", \"weights_mode\": \"pred_entropy\", \"weights_minimum\": '0.5' },\n",
    "    {\"no_distillation\": 'False', \"distil_target_mode\": \"hard_dice\", \"weights_mode\": \"pred_consistency\", \"weights_neighbourhood\": '1', \"weights_consistency_fn\": \"absolute\", \"weights_minimum\": '0.5' },\n",
    "    {\"no_distillation\": 'False', \"distil_target_mode\": \"hard_dice\", \"weights_mode\": \"pred_consistency\", \"weights_neighbourhood\": '1', \"weights_consistency_fn\": \"quadratic\", \"weights_minimum\": '0.5' },\n",
    "    {\"no_distillation\": 'False', \"distil_target_mode\": \"hard_dice\", \"weights_mode\": \"pred_consistency\", \"weights_neighbourhood\": '2', \"weights_consistency_fn\": \"absolute\", \"weights_minimum\": '0.5' },\n",
    "    {\"no_distillation\": 'False', \"distil_target_mode\": \"hard_dice\", \"weights_mode\": \"pred_consistency\", \"weights_neighbourhood\": '2', \"weights_consistency_fn\": \"quadratic\", \"weights_minimum\": '0.5' },\n",
    "    {\"no_distillation\": 'False', \"distil_target_mode\": \"hard_dice\", \"weights_mode\": \"pred_merged\", \"weights_neighbourhood\": '1', \"weights_consistency_fn\": \"absolute\", \"weights_minimum\": '0.1' },\n",
    "    {\"no_distillation\": 'False', \"distil_target_mode\": \"hard_dice\", \"weights_mode\": \"pred_merged\", \"weights_neighbourhood\": '1', \"weights_consistency_fn\": \"quadratic\", \"weights_minimum\": '0.1' },\n",
    "    {\"no_distillation\": 'False', \"distil_target_mode\": \"hard_dice\", \"weights_mode\": \"pred_merged\", \"weights_neighbourhood\": '2', \"weights_consistency_fn\": \"absolute\", \"weights_minimum\": '0.1' },\n",
    "    {\"no_distillation\": 'False', \"distil_target_mode\": \"hard_dice\", \"weights_mode\": \"pred_merged\", \"weights_neighbourhood\": '2', \"weights_consistency_fn\": \"quadratic\", \"weights_minimum\": '0.1' },\n",
    "    {\"no_distillation\": 'False', \"distil_target_mode\": \"hard_dice\", \"weights_mode\": \"pred_merged\", \"weights_neighbourhood\": '1', \"weights_consistency_fn\": \"absolute\", \"weights_minimum\": '0.5' },\n",
    "    {\"no_distillation\": 'False', \"distil_target_mode\": \"hard_dice\", \"weights_mode\": \"pred_merged\", \"weights_neighbourhood\": '1', \"weights_consistency_fn\": \"quadratic\", \"weights_minimum\": '0.5' },\n",
    "    {\"no_distillation\": 'False', \"distil_target_mode\": \"hard_dice\", \"weights_mode\": \"pred_merged\", \"weights_neighbourhood\": '2', \"weights_consistency_fn\": \"absolute\", \"weights_minimum\": '0.5' },\n",
    "    {\"no_distillation\": 'False', \"distil_target_mode\": \"hard_dice\", \"weights_mode\": \"pred_merged\", \"weights_neighbourhood\": '2', \"weights_consistency_fn\": \"quadratic\", \"weights_minimum\": '0.5' },\n",
    "    {\"no_distillation\": 'False', \"distil_target_mode\": \"soft\", \"weights_mode\": \"constant\", \"weights_constant\": '0.05'},\n",
    "    {\"no_distillation\": 'False', \"distil_target_mode\": \"soft\", \"weights_mode\": \"constant\", \"weights_constant\": '0.2'},\n",
    "    {\"no_distillation\": 'False', \"distil_target_mode\": \"soft\", \"weights_mode\": \"constant\", \"weights_constant\": '0.5'},\n",
    "    {\"no_distillation\": 'False', \"distil_target_mode\": \"soft\", \"weights_mode\": \"constant\", \"weights_constant\": '1.0'},\n",
    "    {\"no_distillation\": 'False', \"distil_target_mode\": \"soft\", \"weights_mode\": \"balance_gt\" },\n",
    "    {\"no_distillation\": 'False', \"distil_target_mode\": \"soft\", \"weights_mode\": \"pred_entropy\", \"weights_minimum\": '0.1' },\n",
    "    {\"no_distillation\": 'False', \"distil_target_mode\": \"soft\", \"weights_mode\": \"pred_entropy\", \"weights_minimum\": '0.5' },\n",
    "    {\"no_distillation\": 'False', \"distil_target_mode\": \"soft\", \"weights_mode\": \"pred_consistency\", \"weights_neighbourhood\": '1', \"weights_consistency_fn\": \"absolute\", \"weights_minimum\": '0.5' },\n",
    "    {\"no_distillation\": 'False', \"distil_target_mode\": \"soft\", \"weights_mode\": \"pred_consistency\", \"weights_neighbourhood\": '1', \"weights_consistency_fn\": \"quadratic\", \"weights_minimum\": '0.5' },\n",
    "    {\"no_distillation\": 'False', \"distil_target_mode\": \"soft\", \"weights_mode\": \"pred_consistency\", \"weights_neighbourhood\": '2', \"weights_consistency_fn\": \"absolute\", \"weights_minimum\": '0.5' },\n",
    "    {\"no_distillation\": 'False', \"distil_target_mode\": \"soft\", \"weights_mode\": \"pred_consistency\", \"weights_neighbourhood\": '2', \"weights_consistency_fn\": \"quadratic\", \"weights_minimum\": '0.5' },\n",
    "    {\"no_distillation\": 'False', \"distil_target_mode\": \"soft\", \"weights_mode\": \"pred_merged\", \"weights_neighbourhood\": '1', \"weights_consistency_fn\": \"absolute\", \"weights_minimum\": '0.1' },\n",
    "    {\"no_distillation\": 'False', \"distil_target_mode\": \"soft\", \"weights_mode\": \"pred_merged\", \"weights_neighbourhood\": '1', \"weights_consistency_fn\": \"quadratic\", \"weights_minimum\": '0.1' },\n",
    "    {\"no_distillation\": 'False', \"distil_target_mode\": \"soft\", \"weights_mode\": \"pred_merged\", \"weights_neighbourhood\": '2', \"weights_consistency_fn\": \"absolute\", \"weights_minimum\": '0.1' },\n",
    "    {\"no_distillation\": 'False', \"distil_target_mode\": \"soft\", \"weights_mode\": \"pred_merged\", \"weights_neighbourhood\": '2', \"weights_consistency_fn\": \"quadratic\", \"weights_minimum\": '0.1' },\n",
    "    {\"no_distillation\": 'False', \"distil_target_mode\": \"soft\", \"weights_mode\": \"pred_merged\", \"weights_neighbourhood\": '1', \"weights_consistency_fn\": \"absolute\", \"weights_minimum\": '0.5' },\n",
    "    {\"no_distillation\": 'False', \"distil_target_mode\": \"soft\", \"weights_mode\": \"pred_merged\", \"weights_neighbourhood\": '1', \"weights_consistency_fn\": \"quadratic\", \"weights_minimum\": '0.5' },\n",
    "    {\"no_distillation\": 'False', \"distil_target_mode\": \"soft\", \"weights_mode\": \"pred_merged\", \"weights_neighbourhood\": '2', \"weights_consistency_fn\": \"absolute\", \"weights_minimum\": '0.5' },\n",
    "    {\"no_distillation\": 'False', \"distil_target_mode\": \"soft\", \"weights_mode\": \"pred_merged\", \"weights_neighbourhood\": '2', \"weights_consistency_fn\": \"quadratic\", \"weights_minimum\": '0.5' },\n",
    "    {\"no_distillation\": 'True' },\n",
    "]\n"
   ]
  },
  {
   "cell_type": "code",
   "execution_count": null,
   "metadata": {},
   "outputs": [],
   "source": [
    "hard_exp_fn = lambda **kwargs: hard_exp.get_reeval_metric(\"test_hard_dice\", **kwargs)\n",
    "nogt_exp_fn = lambda **kwargs: nogt_exp.get_metric(\"val_dice\", **kwargs)\n",
    "columns = [\n",
    "    (nogt_exp_fn, {\"monu_nc\": '1', \"monu_rr\": '1.0', \"n_calibration\": '0'}),\n",
    "    (nogt_exp_fn, {\"monu_nc\": '2', \"monu_rr\": '1.0', \"n_calibration\": '1'}),\n",
    "    (hard_exp_fn, {\"monu_nc\": '1', \"monu_rr\": '0.9', \"n_calibration\": '0'}),\n",
    "    (hard_exp_fn, {\"monu_nc\": '2', \"monu_rr\": '0.9', \"n_calibration\": '1'}),\n",
    "    (hard_exp_fn, {\"monu_nc\": '2', \"monu_rr\": '0.5', \"n_calibration\": '0'}),\n",
    "    (hard_exp_fn, {\"monu_nc\": '3', \"monu_rr\": '0.5', \"n_calibration\": '1'}),\n",
    "    (hard_exp_fn, {\"monu_nc\": '4', \"monu_rr\": '0.25', \"n_calibration\": '0'}),\n",
    "    (hard_exp_fn, {\"monu_nc\": '5', \"monu_rr\": '0.25', \"n_calibration\": '1'})\n",
    "]\n"
   ]
  },
  {
   "cell_type": "code",
   "execution_count": null,
   "metadata": {
    "scrolled": true
   },
   "outputs": [],
   "source": [
    "plot_table(rows, columns, 30)\n"
   ]
  },
  {
   "cell_type": "code",
   "execution_count": null,
   "metadata": {},
   "outputs": [],
   "source": [
    "hard_exp._cube.domain"
   ]
  },
  {
   "cell_type": "code",
   "execution_count": null,
   "metadata": {},
   "outputs": [],
   "source": [
    "hard_exp._cube(\n",
    "    monu_nc=\"4\", \n",
    "    n_calibration=\"0\", \n",
    "    monu_rr=\"0.5\", \n",
    "    no_distillation=\"False\", \n",
    "    weights_mode=\"pred_merged\", \n",
    "    weights_neighbourhood=\"2\",\n",
    "    distil_target_mode='soft',\n",
    "    weights_minimum=\"0.0\").diagnose()"
   ]
  },
  {
   "cell_type": "code",
   "execution_count": null,
   "metadata": {},
   "outputs": [],
   "source": [
    "bl = baseline.get_reeval_metric(\"test_hard_dice\", **{})\n",
    "bl_avg, bl_std = np.mean(bl, axis=0), np.std(bl, axis=0)\n",
    "bl_best = np.argmax(bl_avg)\n",
    "print(\"{:2.2f} ± {:2.2f}\".format(bl_avg[bl_best] * 100, bl_std[bl_best] * 100))"
   ]
  },
  {
   "cell_type": "code",
   "execution_count": null,
   "metadata": {},
   "outputs": [],
   "source": []
  }
 ],
 "metadata": {
  "kernelspec": {
   "display_name": "Python [conda env:root]",
   "language": "python",
   "name": "conda-root-py"
  },
  "language_info": {
   "codemirror_mode": {
    "name": "ipython",
    "version": 3
   },
   "file_extension": ".py",
   "mimetype": "text/x-python",
   "name": "python",
   "nbconvert_exporter": "python",
   "pygments_lexer": "ipython3",
   "version": "3.9.7"
  }
 },
 "nbformat": 4,
 "nbformat_minor": 4
}