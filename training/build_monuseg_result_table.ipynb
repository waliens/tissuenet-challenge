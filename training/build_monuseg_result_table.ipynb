{
 "cells": [
  {
   "cell_type": "code",
   "execution_count": 1,
   "metadata": {},
   "outputs": [],
   "source": [
    "from clustertools import build_datacube\n",
    "from clustertools.parameterset import build_parameter_set\n",
    "\n",
    "from pprint import pprint\n",
    "import numpy as np\n",
    "from train_monuseg_hard_clustertools import weight_exclude, exclude_target_and_dice_calibration\n",
    "from train_monuseg_hard_clustertools import no_distillation_filter, filter_nc_rr, min_weight_only_for_entropy\n",
    "from train_monuseg_baseline_clustertools import min_weight_for_entropy, not_using_incomplete\n",
    "from ipnb_helpers import ExperimentReader, plot_table\n",
    "from train_segpc_hard_clustertools import SegpcDatasetConstraint"
   ]
  },
  {
   "cell_type": "code",
   "execution_count": 2,
   "metadata": {
    "pycharm": {
     "name": "#%%\n"
    }
   },
   "outputs": [],
   "source": [
    "import __main__\n",
    "setattr(__main__, \"weight_exclude\", weight_exclude)\n",
    "setattr(__main__, \"exclude_target_and_dice_calibration\", exclude_target_and_dice_calibration)\n",
    "setattr(__main__, \"no_distillation_filter\", no_distillation_filter)\n",
    "setattr(__main__, \"filter_nc_rr\", filter_nc_rr)\n",
    "setattr(__main__, \"min_weight_only_for_entropy\", min_weight_only_for_entropy)\n",
    "setattr(__main__, \"min_weight_for_entropy\", min_weight_for_entropy)\n",
    "setattr(__main__, \"not_using_incomplete\", not_using_incomplete)\n",
    "setattr(__main__, \"SegpcDatasetConstraint\", SegpcDatasetConstraint)"
   ]
  },
  {
   "cell_type": "code",
   "execution_count": 3,
   "metadata": {},
   "outputs": [],
   "source": [
    "baseline = ExperimentReader(\"monuseg-unet-baseline\", \"monuseg-reeval-baseline\", \"rseed\")\n",
    "hard_exp = ExperimentReader(\"monuseg-unet-hard\", \"monuseg-reeval-hard\", \"monu_ms\")\n"
   ]
  },
  {
   "cell_type": "code",
   "execution_count": 4,
   "metadata": {},
   "outputs": [],
   "source": [
    "rows = [\n",
    "    {\"no_distillation\": 'False', \"distil_target_mode\": \"hard_dice\", \"weights_mode\": \"constant\", \"weights_constant\": '0.05'},\n",
    "    {\"no_distillation\": 'False', \"distil_target_mode\": \"hard_dice\", \"weights_mode\": \"constant\", \"weights_constant\": '0.2'},\n",
    "    {\"no_distillation\": 'False', \"distil_target_mode\": \"hard_dice\", \"weights_mode\": \"constant\", \"weights_constant\": '0.5'},\n",
    "    {\"no_distillation\": 'False', \"distil_target_mode\": \"hard_dice\", \"weights_mode\": \"constant\", \"weights_constant\": '1.0'},\n",
    "    {\"no_distillation\": 'False', \"distil_target_mode\": \"hard_dice\", \"weights_mode\": \"balance_gt\" },\n",
    "    {\"no_distillation\": 'False', \"distil_target_mode\": \"hard_dice\", \"weights_mode\": \"pred_entropy\", \"weights_minimum\": '0.1' },\n",
    "    {\"no_distillation\": 'False', \"distil_target_mode\": \"hard_dice\", \"weights_mode\": \"pred_entropy\", \"weights_minimum\": '0.5' },\n",
    "    {\"no_distillation\": 'False', \"distil_target_mode\": \"hard_dice\", \"weights_mode\": \"pred_consistency\", \"weights_neighbourhood\": '1', \"weights_consistency_fn\": \"absolute\", \"weights_minimum\": '0.5' },\n",
    "    {\"no_distillation\": 'False', \"distil_target_mode\": \"hard_dice\", \"weights_mode\": \"pred_consistency\", \"weights_neighbourhood\": '1', \"weights_consistency_fn\": \"quadratic\", \"weights_minimum\": '0.5' },\n",
    "    {\"no_distillation\": 'False', \"distil_target_mode\": \"hard_dice\", \"weights_mode\": \"pred_consistency\", \"weights_neighbourhood\": '2', \"weights_consistency_fn\": \"absolute\", \"weights_minimum\": '0.5' },\n",
    "    {\"no_distillation\": 'False', \"distil_target_mode\": \"hard_dice\", \"weights_mode\": \"pred_consistency\", \"weights_neighbourhood\": '2', \"weights_consistency_fn\": \"quadratic\", \"weights_minimum\": '0.5' },\n",
    "    {\"no_distillation\": 'False', \"distil_target_mode\": \"hard_dice\", \"weights_mode\": \"pred_merged\", \"weights_neighbourhood\": '1', \"weights_consistency_fn\": \"absolute\", \"weights_minimum\": '0.1' },\n",
    "    {\"no_distillation\": 'False', \"distil_target_mode\": \"hard_dice\", \"weights_mode\": \"pred_merged\", \"weights_neighbourhood\": '1', \"weights_consistency_fn\": \"quadratic\", \"weights_minimum\": '0.1' },\n",
    "    {\"no_distillation\": 'False', \"distil_target_mode\": \"hard_dice\", \"weights_mode\": \"pred_merged\", \"weights_neighbourhood\": '2', \"weights_consistency_fn\": \"absolute\", \"weights_minimum\": '0.1' },\n",
    "    {\"no_distillation\": 'False', \"distil_target_mode\": \"hard_dice\", \"weights_mode\": \"pred_merged\", \"weights_neighbourhood\": '2', \"weights_consistency_fn\": \"quadratic\", \"weights_minimum\": '0.1' },\n",
    "    {\"no_distillation\": 'False', \"distil_target_mode\": \"hard_dice\", \"weights_mode\": \"pred_merged\", \"weights_neighbourhood\": '1', \"weights_consistency_fn\": \"absolute\", \"weights_minimum\": '0.5' },\n",
    "    {\"no_distillation\": 'False', \"distil_target_mode\": \"hard_dice\", \"weights_mode\": \"pred_merged\", \"weights_neighbourhood\": '1', \"weights_consistency_fn\": \"quadratic\", \"weights_minimum\": '0.5' },\n",
    "    {\"no_distillation\": 'False', \"distil_target_mode\": \"hard_dice\", \"weights_mode\": \"pred_merged\", \"weights_neighbourhood\": '2', \"weights_consistency_fn\": \"absolute\", \"weights_minimum\": '0.5' },\n",
    "    {\"no_distillation\": 'False', \"distil_target_mode\": \"hard_dice\", \"weights_mode\": \"pred_merged\", \"weights_neighbourhood\": '2', \"weights_consistency_fn\": \"quadratic\", \"weights_minimum\": '0.5' },\n",
    "    {\"no_distillation\": 'False', \"distil_target_mode\": \"soft\", \"weights_mode\": \"constant\", \"weights_constant\": '0.05'},\n",
    "    {\"no_distillation\": 'False', \"distil_target_mode\": \"soft\", \"weights_mode\": \"constant\", \"weights_constant\": '0.2'},\n",
    "    {\"no_distillation\": 'False', \"distil_target_mode\": \"soft\", \"weights_mode\": \"constant\", \"weights_constant\": '0.5'},\n",
    "    {\"no_distillation\": 'False', \"distil_target_mode\": \"soft\", \"weights_mode\": \"constant\", \"weights_constant\": '1.0'},\n",
    "    {\"no_distillation\": 'False', \"distil_target_mode\": \"soft\", \"weights_mode\": \"balance_gt\" },\n",
    "    {\"no_distillation\": 'False', \"distil_target_mode\": \"soft\", \"weights_mode\": \"pred_entropy\", \"weights_minimum\": '0.1' },\n",
    "    {\"no_distillation\": 'False', \"distil_target_mode\": \"soft\", \"weights_mode\": \"pred_entropy\", \"weights_minimum\": '0.5' },\n",
    "    {\"no_distillation\": 'False', \"distil_target_mode\": \"soft\", \"weights_mode\": \"pred_consistency\", \"weights_neighbourhood\": '1', \"weights_consistency_fn\": \"absolute\", \"weights_minimum\": '0.5' },\n",
    "    {\"no_distillation\": 'False', \"distil_target_mode\": \"soft\", \"weights_mode\": \"pred_consistency\", \"weights_neighbourhood\": '1', \"weights_consistency_fn\": \"quadratic\", \"weights_minimum\": '0.5' },\n",
    "    {\"no_distillation\": 'False', \"distil_target_mode\": \"soft\", \"weights_mode\": \"pred_consistency\", \"weights_neighbourhood\": '2', \"weights_consistency_fn\": \"absolute\", \"weights_minimum\": '0.5' },\n",
    "    {\"no_distillation\": 'False', \"distil_target_mode\": \"soft\", \"weights_mode\": \"pred_consistency\", \"weights_neighbourhood\": '2', \"weights_consistency_fn\": \"quadratic\", \"weights_minimum\": '0.5' },\n",
    "    {\"no_distillation\": 'False', \"distil_target_mode\": \"soft\", \"weights_mode\": \"pred_merged\", \"weights_neighbourhood\": '1', \"weights_consistency_fn\": \"absolute\", \"weights_minimum\": '0.1' },\n",
    "    {\"no_distillation\": 'False', \"distil_target_mode\": \"soft\", \"weights_mode\": \"pred_merged\", \"weights_neighbourhood\": '1', \"weights_consistency_fn\": \"quadratic\", \"weights_minimum\": '0.1' },\n",
    "    {\"no_distillation\": 'False', \"distil_target_mode\": \"soft\", \"weights_mode\": \"pred_merged\", \"weights_neighbourhood\": '2', \"weights_consistency_fn\": \"absolute\", \"weights_minimum\": '0.1' },\n",
    "    {\"no_distillation\": 'False', \"distil_target_mode\": \"soft\", \"weights_mode\": \"pred_merged\", \"weights_neighbourhood\": '2', \"weights_consistency_fn\": \"quadratic\", \"weights_minimum\": '0.1' },\n",
    "    {\"no_distillation\": 'False', \"distil_target_mode\": \"soft\", \"weights_mode\": \"pred_merged\", \"weights_neighbourhood\": '1', \"weights_consistency_fn\": \"absolute\", \"weights_minimum\": '0.5' },\n",
    "    {\"no_distillation\": 'False', \"distil_target_mode\": \"soft\", \"weights_mode\": \"pred_merged\", \"weights_neighbourhood\": '1', \"weights_consistency_fn\": \"quadratic\", \"weights_minimum\": '0.5' },\n",
    "    {\"no_distillation\": 'False', \"distil_target_mode\": \"soft\", \"weights_mode\": \"pred_merged\", \"weights_neighbourhood\": '2', \"weights_consistency_fn\": \"absolute\", \"weights_minimum\": '0.5' },\n",
    "    {\"no_distillation\": 'False', \"distil_target_mode\": \"soft\", \"weights_mode\": \"pred_merged\", \"weights_neighbourhood\": '2', \"weights_consistency_fn\": \"quadratic\", \"weights_minimum\": '0.5' },\n",
    "    {\"no_distillation\": 'True' },\n",
    "]\n"
   ]
  },
  {
   "cell_type": "code",
   "execution_count": 21,
   "metadata": {},
   "outputs": [],
   "source": [
    "hard_exp_fn = lambda **kwargs: hard_exp.get_reeval_metric(\"test_hard_dice\", **kwargs)\n",
    "columns = [\n",
    "    (hard_exp_fn, {\"monu_nc\": '1', \"monu_rr\": '0.9', \"n_calibration\": '0'}),\n",
    "    (hard_exp_fn, {\"monu_nc\": '2', \"monu_rr\": '0.9', \"n_calibration\": '1'}),\n",
    "    (hard_exp_fn, {\"monu_nc\": '2', \"monu_rr\": '0.5', \"n_calibration\": '0'}),\n",
    "    (hard_exp_fn, {\"monu_nc\": '3', \"monu_rr\": '0.5', \"n_calibration\": '1'}),\n",
    "    (hard_exp_fn, {\"monu_nc\": '4', \"monu_rr\": '0.25', \"n_calibration\": '0'}),\n",
    "    (hard_exp_fn, {\"monu_nc\": '5', \"monu_rr\": '0.25', \"n_calibration\": '1'})\n",
    "]\n"
   ]
  },
  {
   "cell_type": "code",
   "execution_count": 22,
   "metadata": {
    "scrolled": true
   },
   "outputs": [
    {
     "name": "stdout",
     "output_type": "stream",
     "text": [
      "\\begin{table*}\n",
      "\\begin{tabular}{|ccc|cccccc|}\n",
      "\\multicolumn{3}{|c|}{$|\\mathcal{D}_l|/|\\mathcal{D}_s|$} & 1/29 & 1/28 & 2/28 & 2/27 & 4/26 & 4/25\\\\\n",
      "\\multicolumn{3}{|c|}{$\\rho$} &  90\\% &  90\\% &  50\\% &  50\\% &  25\\% &  25\\%\\\\\n",
      "\\multicolumn{3}{|c|}{$|\\mathcal{D}_{cal}|$} & 0 & 1 & 0 & 1 & 0 & 1\\\\\n",
      "\\hline\n",
      "\\multicolumn{9}{|l|}{Constant ($C$)} \\\\\n",
      "\\hline\n",
      "             \\multicolumn{3}{|c|}{$1.0$}  &                     & 74.23 ± 2.43 &                    & 79.11 ± 0.85 &                    & 78.83 ± 0.98 \\\\\n",
      "\\hline\n",
      "\\multicolumn{9}{|l|}{Balance} \\\\\n",
      "\\hline\n",
      "                                     & &  &                     & 77.56 ± 0.66 &                    & 78.80 ± 0.80 &                    & 78.45 ± 1.23 \\\\\n",
      "\\hline\n",
      "\\multicolumn{9}{|l|}{Entropy - $w_{\\text{min}}$} \\\\\n",
      "\\hline\n",
      "             \\multicolumn{3}{|c|}{$0.1$}  &                     & 77.31 ± 1.09 &                    & 78.27 ± 1.22 &                    & 77.05 ± 2.79 \\\\\n",
      "             \\multicolumn{3}{|c|}{$0.5$}  &                     & 74.43 ± 2.42 &                    & 78.55 ± 1.35 &                    & 78.42 ± 0.54 \\\\\n",
      "\\hline\n",
      "\\multicolumn{9}{|l|}{Consistency - $\\eta, c(y_1, y_2)$} \\\\\n",
      "\\hline\n",
      "    $1$ & \\multicolumn{2}{c|}{$\\cdot^2$}  &                     & 73.93 ± 2.71 &                    & 78.82 ± 0.95 &                    & 79.12 ± 0.56 \\\\\n",
      "    $2$ & \\multicolumn{2}{c|}{$\\cdot^2$}  &                     & 74.13 ± 2.30 &                    & 79.04 ± 0.91 &                    & 79.07 ± 0.58 \\\\\n",
      "\\hline\n",
      "\\multicolumn{9}{|l|}{Merged - $w_{\\text{min}}, \\eta, c(y_1, y_2)$} \\\\\n",
      "\\hline\n",
      "                 $0.5$ & $1$ & $\\cdot^2$  &                     & 74.35 ± 2.48 &                    & 78.48 ± 1.72 &                    & 78.53 ± 0.63 \\\\\n",
      "                 $0.5$ & $2$ & $\\cdot^2$  &                     & 74.23 ± 2.39 &                    & 79.14 ± 0.81 &                    & 78.57 ± 0.49 \\\\\n",
      "\\hline\n",
      "\\multicolumn{9}{|l|}{Constant ($C$)} \\\\\n",
      "\\hline\n",
      "             \\multicolumn{3}{|c|}{$1.0$}  &  75.24 ± 2.39 & 74.35 ± 2.19 & 78.47 ± 0.85 & 78.38 ± 0.94 &                    & 79.21 ± 0.56 \\\\\n",
      "\\hline\n",
      "\\multicolumn{9}{|l|}{Balance} \\\\\n",
      "\\hline\n",
      "                                     & &  &  73.28 ± 1.53 & 74.49 ± 1.90 & 76.19 ± 1.15 & 77.59 ± 0.80 &                    & 78.32 ± 1.09 \\\\\n",
      "\\hline\n",
      "\\multicolumn{9}{|l|}{Entropy - $w_{\\text{min}}$} \\\\\n",
      "\\hline\n",
      "             \\multicolumn{3}{|c|}{$0.1$}  &  75.27 ± 1.18 & 75.97 ± 1.20 & 75.82 ± 0.95 & 77.20 ± 0.72 &                    & 77.18 ± 1.47 \\\\\n",
      "             \\multicolumn{3}{|c|}{$0.5$}  &  76.29 ± 1.32 & 75.53 ± 2.08 & 78.41 ± 0.84 & 77.95 ± 0.72 &                    & 78.94 ± 0.56 \\\\\n",
      "\\hline\n",
      "\\multicolumn{9}{|l|}{Consistency - $\\eta, c(y_1, y_2)$} \\\\\n",
      "\\hline\n",
      "    $1$ & \\multicolumn{2}{c|}{$\\cdot^2$}  &  75.29 ± 1.92 & 74.76 ± 2.90 & 78.64 ± 0.75 & 78.45 ± 0.88 &                    & 79.15 ± 0.63 \\\\\n",
      "    $2$ & \\multicolumn{2}{c|}{$\\cdot^2$}  &  75.62 ± 1.95 & 74.84 ± 2.71 & 78.52 ± 0.89 & 78.46 ± 0.91 &                    & 79.22 ± 0.61 \\\\\n",
      "\\hline\n",
      "\\multicolumn{9}{|l|}{Merged - $w_{\\text{min}}, \\eta, c(y_1, y_2)$} \\\\\n",
      "\\hline\n",
      "                 $0.5$ & $1$ & $\\cdot^2$  &  76.06 ± 1.55 & 75.47 ± 2.14 & 78.31 ± 0.95 & 78.06 ± 0.78 &                    & 79.01 ± 0.59 \\\\\n",
      "                 $0.5$ & $2$ & $\\cdot^2$  &  76.29 ± 1.26 & 75.41 ± 2.49 & 78.26 ± 0.78 & 77.97 ± 0.97 &                    & 79.13 ± 0.65 \\\\\n",
      "\\hline\n",
      "\\multicolumn{9}{|l|}{No self-training} \\\\\n",
      "\\hline\n",
      "                                     & &  &  70.38 ± 3.07 & 70.35 ± 2.47 & 78.07 ± 0.73 & 77.25 ± 0.90 &                    & 78.48 ± 0.71 \\\\\n",
      "\\end{tabular}\n",
      "\\end{table*}\n"
     ]
    }
   ],
   "source": [
    "plot_table(rows, columns, 30)\n"
   ]
  },
  {
   "cell_type": "code",
   "execution_count": 11,
   "metadata": {},
   "outputs": [
    {
     "data": {
      "text/plain": [
       "{'distil_target_mode': ['hard_dice', 'soft'],\n",
       " 'monu_ms': ['13315092',\n",
       "  '21081788',\n",
       "  '26735830',\n",
       "  '35788921',\n",
       "  '56755036',\n",
       "  '56882282',\n",
       "  '65682867',\n",
       "  '91090292',\n",
       "  '93410762',\n",
       "  '96319575'],\n",
       " 'monu_nc': ['1', '2', '3', '4', '5'],\n",
       " 'monu_rr': ['0.25', '0.5', '0.9'],\n",
       " 'n_calibration': ['0', '1'],\n",
       " 'no_distillation': ['False', 'True'],\n",
       " 'weights_minimum': ['0.0', '0.1', '0.5'],\n",
       " 'weights_mode': ['balance_gt',\n",
       "  'constant',\n",
       "  'pred_consistency',\n",
       "  'pred_entropy',\n",
       "  'pred_merged'],\n",
       " 'weights_neighbourhood': ['1', '2']}"
      ]
     },
     "execution_count": 11,
     "metadata": {},
     "output_type": "execute_result"
    }
   ],
   "source": [
    "hard_exp._cube.domain"
   ]
  },
  {
   "cell_type": "code",
   "execution_count": 20,
   "metadata": {},
   "outputs": [
    {
     "data": {
      "text/plain": [
       "{'Missing ratio': 1.0,\n",
       " 'At least one missing': {'monu_ms': ['13315092',\n",
       "   '21081788',\n",
       "   '26735830',\n",
       "   '35788921',\n",
       "   '56755036',\n",
       "   '56882282',\n",
       "   '65682867',\n",
       "   '91090292',\n",
       "   '93410762',\n",
       "   '96319575']},\n",
       " 'All there': {'monu_ms': []}}"
      ]
     },
     "execution_count": 20,
     "metadata": {},
     "output_type": "execute_result"
    }
   ],
   "source": [
    "hard_exp._cube(\n",
    "    monu_nc=\"4\", \n",
    "    n_calibration=\"0\", \n",
    "    monu_rr=\"0.5\", \n",
    "    no_distillation=\"False\", \n",
    "    weights_mode=\"pred_merged\", \n",
    "    weights_neighbourhood=\"2\",\n",
    "    distil_target_mode='soft',\n",
    "    weights_minimum=\"0.0\").diagnose()"
   ]
  },
  {
   "cell_type": "code",
   "execution_count": 29,
   "metadata": {},
   "outputs": [
    {
     "name": "stdout",
     "output_type": "stream",
     "text": [
      "79.59 ± 0.53\n"
     ]
    }
   ],
   "source": [
    "bl = baseline.get_reeval_metric(\"test_hard_dice\", **{})\n",
    "bl_avg, bl_std = np.mean(bl, axis=0), np.std(bl, axis=0)\n",
    "bl_best = np.argmax(bl_avg)\n",
    "print(\"{:2.2f} ± {:2.2f}\".format(bl_avg[bl_best] * 100, bl_std[bl_best] * 100))"
   ]
  },
  {
   "cell_type": "code",
   "execution_count": null,
   "metadata": {},
   "outputs": [],
   "source": []
  }
 ],
 "metadata": {
  "kernelspec": {
   "display_name": "Python [conda env:root]",
   "language": "python",
   "name": "conda-root-py"
  },
  "language_info": {
   "codemirror_mode": {
    "name": "ipython",
    "version": 3
   },
   "file_extension": ".py",
   "mimetype": "text/x-python",
   "name": "python",
   "nbconvert_exporter": "python",
   "pygments_lexer": "ipython3",
   "version": "3.9.7"
  }
 },
 "nbformat": 4,
 "nbformat_minor": 4
}