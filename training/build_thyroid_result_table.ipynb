{
 "cells": [
  {
   "cell_type": "code",
   "execution_count": 14,
   "metadata": {},
   "outputs": [],
   "source": [
    "from clustertools import build_datacube\n",
    "from clustertools.parameterset import build_parameter_set\n",
    "\n",
    "from pprint import pprint\n",
    "import numpy as np\n",
    "from train_thyroid_hard_clustertools import weight_exclude, exclude_target_and_dice_calibration\n",
    "from train_thyroid_hard_clustertools import no_distillation_filter, min_weight_only_for_entropy\n",
    "from ipnb_helpers import ExperimentReader, plot_table"
   ]
  },
  {
   "cell_type": "code",
   "execution_count": 15,
   "metadata": {
    "pycharm": {
     "name": "#%%\n"
    }
   },
   "outputs": [],
   "source": [
    "import __main__\n",
    "setattr(__main__, \"weight_exclude\", weight_exclude)\n",
    "setattr(__main__, \"exclude_target_and_dice_calibration\", exclude_target_and_dice_calibration)\n",
    "setattr(__main__, \"no_distillation_filter\", no_distillation_filter)\n",
    "setattr(__main__, \"min_weight_only_for_entropy\", min_weight_only_for_entropy)"
   ]
  },
  {
   "cell_type": "code",
   "execution_count": 16,
   "metadata": {},
   "outputs": [],
   "source": [
    "hard_exp = ExperimentReader(\"thyroid-unet-hard\", \"thyroid-reeval-hard\", \"rseed\")\n"
   ]
  },
  {
   "cell_type": "code",
   "execution_count": 17,
   "metadata": {},
   "outputs": [],
   "source": [
    "rows = [\n",
    "    {\"no_distillation\": 'False', \"distil_target_mode\": \"hard_dice\", \"weights_mode\": \"constant\", \"weights_constant\": '0.05'},\n",
    "    {\"no_distillation\": 'False', \"distil_target_mode\": \"hard_dice\", \"weights_mode\": \"constant\", \"weights_constant\": '0.2'},\n",
    "    {\"no_distillation\": 'False', \"distil_target_mode\": \"hard_dice\", \"weights_mode\": \"constant\", \"weights_constant\": '0.5'},\n",
    "    {\"no_distillation\": 'False', \"distil_target_mode\": \"hard_dice\", \"weights_mode\": \"constant\", \"weights_constant\": '1.0'},\n",
    "    {\"no_distillation\": 'False', \"distil_target_mode\": \"hard_dice\", \"weights_mode\": \"balance_gt\" },\n",
    "    {\"no_distillation\": 'False', \"distil_target_mode\": \"hard_dice\", \"weights_mode\": \"pred_entropy\", \"weights_minimum\": '0.1' },\n",
    "    {\"no_distillation\": 'False', \"distil_target_mode\": \"hard_dice\", \"weights_mode\": \"pred_entropy\", \"weights_minimum\": '0.5' },\n",
    "    {\"no_distillation\": 'False', \"distil_target_mode\": \"hard_dice\", \"weights_mode\": \"pred_consistency\", \"weights_neighbourhood\": '1', \"weights_consistency_fn\": \"absolute\", \"weights_minimum\": '0.5' },\n",
    "    {\"no_distillation\": 'False', \"distil_target_mode\": \"hard_dice\", \"weights_mode\": \"pred_consistency\", \"weights_neighbourhood\": '1', \"weights_consistency_fn\": \"quadratic\", \"weights_minimum\": '0.5' },\n",
    "    {\"no_distillation\": 'False', \"distil_target_mode\": \"hard_dice\", \"weights_mode\": \"pred_consistency\", \"weights_neighbourhood\": '2', \"weights_consistency_fn\": \"absolute\", \"weights_minimum\": '0.5' },\n",
    "    {\"no_distillation\": 'False', \"distil_target_mode\": \"hard_dice\", \"weights_mode\": \"pred_consistency\", \"weights_neighbourhood\": '2', \"weights_consistency_fn\": \"quadratic\", \"weights_minimum\": '0.5' },\n",
    "    {\"no_distillation\": 'False', \"distil_target_mode\": \"hard_dice\", \"weights_mode\": \"pred_merged\", \"weights_neighbourhood\": '1', \"weights_consistency_fn\": \"absolute\", \"weights_minimum\": '0.1' },\n",
    "    {\"no_distillation\": 'False', \"distil_target_mode\": \"hard_dice\", \"weights_mode\": \"pred_merged\", \"weights_neighbourhood\": '1', \"weights_consistency_fn\": \"quadratic\", \"weights_minimum\": '0.1' },\n",
    "    {\"no_distillation\": 'False', \"distil_target_mode\": \"hard_dice\", \"weights_mode\": \"pred_merged\", \"weights_neighbourhood\": '2', \"weights_consistency_fn\": \"absolute\", \"weights_minimum\": '0.1' },\n",
    "    {\"no_distillation\": 'False', \"distil_target_mode\": \"hard_dice\", \"weights_mode\": \"pred_merged\", \"weights_neighbourhood\": '2', \"weights_consistency_fn\": \"quadratic\", \"weights_minimum\": '0.1' },\n",
    "    {\"no_distillation\": 'False', \"distil_target_mode\": \"hard_dice\", \"weights_mode\": \"pred_merged\", \"weights_neighbourhood\": '1', \"weights_consistency_fn\": \"absolute\", \"weights_minimum\": '0.5' },\n",
    "    {\"no_distillation\": 'False', \"distil_target_mode\": \"hard_dice\", \"weights_mode\": \"pred_merged\", \"weights_neighbourhood\": '1', \"weights_consistency_fn\": \"quadratic\", \"weights_minimum\": '0.5' },\n",
    "    {\"no_distillation\": 'False', \"distil_target_mode\": \"hard_dice\", \"weights_mode\": \"pred_merged\", \"weights_neighbourhood\": '2', \"weights_consistency_fn\": \"absolute\", \"weights_minimum\": '0.5' },\n",
    "    {\"no_distillation\": 'False', \"distil_target_mode\": \"hard_dice\", \"weights_mode\": \"pred_merged\", \"weights_neighbourhood\": '2', \"weights_consistency_fn\": \"quadratic\", \"weights_minimum\": '0.5' },\n",
    "    {\"no_distillation\": 'False', \"distil_target_mode\": \"soft\", \"weights_mode\": \"constant\", \"weights_constant\": '0.05'},\n",
    "    {\"no_distillation\": 'False', \"distil_target_mode\": \"soft\", \"weights_mode\": \"constant\", \"weights_constant\": '0.2'},\n",
    "    {\"no_distillation\": 'False', \"distil_target_mode\": \"soft\", \"weights_mode\": \"constant\", \"weights_constant\": '0.5'},\n",
    "    {\"no_distillation\": 'False', \"distil_target_mode\": \"soft\", \"weights_mode\": \"constant\", \"weights_constant\": '1.0'},\n",
    "    {\"no_distillation\": 'False', \"distil_target_mode\": \"soft\", \"weights_mode\": \"balance_gt\" },\n",
    "    {\"no_distillation\": 'False', \"distil_target_mode\": \"soft\", \"weights_mode\": \"pred_entropy\", \"weights_minimum\": '0.1' },\n",
    "    {\"no_distillation\": 'False', \"distil_target_mode\": \"soft\", \"weights_mode\": \"pred_entropy\", \"weights_minimum\": '0.5' },\n",
    "    {\"no_distillation\": 'False', \"distil_target_mode\": \"soft\", \"weights_mode\": \"pred_consistency\", \"weights_neighbourhood\": '1', \"weights_consistency_fn\": \"absolute\", \"weights_minimum\": '0.5' },\n",
    "    {\"no_distillation\": 'False', \"distil_target_mode\": \"soft\", \"weights_mode\": \"pred_consistency\", \"weights_neighbourhood\": '1', \"weights_consistency_fn\": \"quadratic\", \"weights_minimum\": '0.5' },\n",
    "    {\"no_distillation\": 'False', \"distil_target_mode\": \"soft\", \"weights_mode\": \"pred_consistency\", \"weights_neighbourhood\": '2', \"weights_consistency_fn\": \"absolute\", \"weights_minimum\": '0.5' },\n",
    "    {\"no_distillation\": 'False', \"distil_target_mode\": \"soft\", \"weights_mode\": \"pred_consistency\", \"weights_neighbourhood\": '2', \"weights_consistency_fn\": \"quadratic\", \"weights_minimum\": '0.5' },\n",
    "    {\"no_distillation\": 'False', \"distil_target_mode\": \"soft\", \"weights_mode\": \"pred_merged\", \"weights_neighbourhood\": '1', \"weights_consistency_fn\": \"absolute\", \"weights_minimum\": '0.1' },\n",
    "    {\"no_distillation\": 'False', \"distil_target_mode\": \"soft\", \"weights_mode\": \"pred_merged\", \"weights_neighbourhood\": '1', \"weights_consistency_fn\": \"quadratic\", \"weights_minimum\": '0.1' },\n",
    "    {\"no_distillation\": 'False', \"distil_target_mode\": \"soft\", \"weights_mode\": \"pred_merged\", \"weights_neighbourhood\": '2', \"weights_consistency_fn\": \"absolute\", \"weights_minimum\": '0.1' },\n",
    "    {\"no_distillation\": 'False', \"distil_target_mode\": \"soft\", \"weights_mode\": \"pred_merged\", \"weights_neighbourhood\": '2', \"weights_consistency_fn\": \"quadratic\", \"weights_minimum\": '0.1' },\n",
    "    {\"no_distillation\": 'False', \"distil_target_mode\": \"soft\", \"weights_mode\": \"pred_merged\", \"weights_neighbourhood\": '1', \"weights_consistency_fn\": \"absolute\", \"weights_minimum\": '0.5' },\n",
    "    {\"no_distillation\": 'False', \"distil_target_mode\": \"soft\", \"weights_mode\": \"pred_merged\", \"weights_neighbourhood\": '1', \"weights_consistency_fn\": \"quadratic\", \"weights_minimum\": '0.5' },\n",
    "    {\"no_distillation\": 'False', \"distil_target_mode\": \"soft\", \"weights_mode\": \"pred_merged\", \"weights_neighbourhood\": '2', \"weights_consistency_fn\": \"absolute\", \"weights_minimum\": '0.5' },\n",
    "    {\"no_distillation\": 'False', \"distil_target_mode\": \"soft\", \"weights_mode\": \"pred_merged\", \"weights_neighbourhood\": '2', \"weights_consistency_fn\": \"quadratic\", \"weights_minimum\": '0.5' },\n",
    "    {\"no_distillation\": 'True' },\n",
    "]\n"
   ]
  },
  {
   "cell_type": "code",
   "execution_count": 18,
   "metadata": {},
   "outputs": [],
   "source": [
    "hard_exp_fn = lambda **kwargs: hard_exp.get_metric(\"val_dice\", **kwargs)\n",
    "columns = [\n",
    "    (hard_exp_fn, {'n_calibration': '0'}),\n",
    "    (hard_exp_fn, {'n_calibration': '10'})\n",
    "]\n"
   ]
  },
  {
   "cell_type": "code",
   "execution_count": 19,
   "metadata": {
    "scrolled": true
   },
   "outputs": [
    {
     "name": "stdout",
     "output_type": "stream",
     "text": [
      "\\begin{table*}\n",
      "\\begin{tabular}{|ccc|cc|}\n",
      "\\multicolumn{3}{|c|}{$|\\mathcal{D}_l|/|\\mathcal{D}_s|$} & 0/4742 & -10/4742\\\\\r\n",
      "\\multicolumn{3}{|c|}{$\\rho$} & 100\\% & 100\\%\\\\\r\n",
      "\\multicolumn{3}{|c|}{$|\\mathcal{D}_{cal}|$} & 0 & 10\\\\\n",
      "\\hline\r\n",
      "\\multicolumn{5}{|l|}{Constant ($C$)} \\\\\r\n",
      "\\hline\n",
      "            \\multicolumn{3}{|c|}{$0.05$}  &                     & 87.03 ± 1.78 \\\\\n",
      "             \\multicolumn{3}{|c|}{$0.2$}  &                     & 86.95 ± 1.95 \\\\\n",
      "             \\multicolumn{3}{|c|}{$1.0$}  &                     & 85.99 ± 2.28 \\\\\n",
      "\\hline\r\n",
      "\\multicolumn{5}{|l|}{Balance} \\\\\r\n",
      "\\hline\n",
      "                                     & &  &                     & 87.18 ± 1.24 \\\\\n",
      "\\hline\r\n",
      "\\multicolumn{5}{|l|}{Entropy - $w_{\\text{min}}$} \\\\\r\n",
      "\\hline\n",
      "             \\multicolumn{3}{|c|}{$0.1$}  &                     & 87.02 ± 1.81 \\\\\n",
      "             \\multicolumn{3}{|c|}{$0.5$}  &                     & 86.43 ± 2.38 \\\\\n",
      "\\hline\r\n",
      "\\multicolumn{5}{|l|}{Consistency - $\\eta, c(y_1, y_2)$} \\\\\r\n",
      "\\hline\n",
      "\\hline\r\n",
      "\\multicolumn{5}{|l|}{Merged - $w_{\\text{min}}, \\eta, c(y_1, y_2)$} \\\\\r\n",
      "\\hline\n",
      "                 $0.1$ & $2$ & $\\cdot^2$  &                     & 86.68 ± 1.89 \\\\\n",
      "                 $0.5$ & $2$ & $\\cdot^2$  &                     & 87.04 ± 0.98 \\\\\n",
      "\\hline\r\n",
      "\\multicolumn{5}{|l|}{Constant ($C$)} \\\\\r\n",
      "\\hline\n",
      "            \\multicolumn{3}{|c|}{$0.05$}  &  86.40 ± 1.71 & 86.00 ± 2.88 \\\\\n",
      "             \\multicolumn{3}{|c|}{$0.2$}  &  86.45 ± 1.67 & 86.48 ± 1.39 \\\\\n",
      "             \\multicolumn{3}{|c|}{$1.0$}  &  85.34 ± 2.26 & 85.83 ± 2.45 \\\\\n",
      "\\hline\r\n",
      "\\multicolumn{5}{|l|}{Balance} \\\\\r\n",
      "\\hline\n",
      "                                     & &  &  86.74 ± 1.38 & 86.04 ± 2.55 \\\\\n",
      "\\hline\r\n",
      "\\multicolumn{5}{|l|}{Entropy - $w_{\\text{min}}$} \\\\\r\n",
      "\\hline\n",
      "             \\multicolumn{3}{|c|}{$0.1$}  &  86.59 ± 1.55 & 86.54 ± 1.52 \\\\\n",
      "             \\multicolumn{3}{|c|}{$0.5$}  &  85.41 ± 1.67 & 86.14 ± 2.52 \\\\\n",
      "\\hline\r\n",
      "\\multicolumn{5}{|l|}{Consistency - $\\eta, c(y_1, y_2)$} \\\\\r\n",
      "\\hline\n",
      "\\hline\r\n",
      "\\multicolumn{5}{|l|}{Merged - $w_{\\text{min}}, \\eta, c(y_1, y_2)$} \\\\\r\n",
      "\\hline\n",
      "                 $0.1$ & $2$ & $\\cdot^2$  &  86.97 ± 1.31 & 86.53 ± 1.61 \\\\\n",
      "                 $0.5$ & $2$ & $\\cdot^2$  &  85.87 ± 2.17 & 86.96 ± 1.78 \\\\\n",
      "\\hline\r\n",
      "\\multicolumn{5}{|l|}{No self-training} \\\\\r\n",
      "\\hline\n",
      "                                     & &  &  85.95 ± 1.89 & 85.98 ± 2.16 \\\\\n",
      "\\end{tabular}\n",
      "\\end{table*}\n"
     ]
    }
   ],
   "source": [
    "plot_table(rows, columns, 4742)\n"
   ]
  },
  {
   "cell_type": "code",
   "execution_count": 20,
   "metadata": {},
   "outputs": [
    {
     "data": {
      "text/plain": "{'distil_target_mode': ['hard_dice', 'soft'],\n 'n_calibration': ['0', '10'],\n 'no_distillation': ['False', 'True'],\n 'rseed': ['127521863',\n  '199900595',\n  '415968276',\n  '423734972',\n  '534895718',\n  '670094950',\n  '787846414',\n  '841095289',\n  '862061404',\n  '996406378'],\n 'weights_constant': ['0.05', '0.2', '1.0'],\n 'weights_minimum': ['0.0', '0.1', '0.5'],\n 'weights_mode': ['balance_gt', 'constant', 'pred_entropy', 'pred_merged']}"
     },
     "execution_count": 20,
     "metadata": {},
     "output_type": "execute_result"
    }
   ],
   "source": [
    "hard_exp._cube.domain"
   ]
  },
  {
   "cell_type": "code",
   "execution_count": 21,
   "metadata": {},
   "outputs": [
    {
     "data": {
      "text/plain": "{'Missing ratio': 0.0,\n 'At least one missing': {'rseed': []},\n 'All there': {'rseed': ['127521863',\n   '199900595',\n   '415968276',\n   '423734972',\n   '534895718',\n   '670094950',\n   '787846414',\n   '841095289',\n   '862061404',\n   '996406378']}}"
     },
     "execution_count": 21,
     "metadata": {},
     "output_type": "execute_result"
    }
   ],
   "source": [
    "hard_exp._cube(\n",
    "    n_calibration=\"10\", \n",
    "    no_distillation=\"False\", \n",
    "    weights_mode=\"constant\", \n",
    "    weights_neighbourhood=\"2\",\n",
    "    distil_target_mode='hard_dice',\n",
    "    weights_minimum=\"0.0\",\n",
    "    weights_constant=\"0.05\").diagnose()"
   ]
  },
  {
   "cell_type": "code",
   "execution_count": 22,
   "metadata": {},
   "outputs": [
    {
     "ename": "NameError",
     "evalue": "name 'baseline' is not defined",
     "output_type": "error",
     "traceback": [
      "\u001B[1;31m---------------------------------------------------------------------------\u001B[0m",
      "\u001B[1;31mNameError\u001B[0m                                 Traceback (most recent call last)",
      "Input \u001B[1;32mIn [22]\u001B[0m, in \u001B[0;36m<cell line: 1>\u001B[1;34m()\u001B[0m\n\u001B[1;32m----> 1\u001B[0m bl \u001B[38;5;241m=\u001B[39m \u001B[43mbaseline\u001B[49m\u001B[38;5;241m.\u001B[39mget_reeval_metric(\u001B[38;5;124m\"\u001B[39m\u001B[38;5;124mtest_hard_dice\u001B[39m\u001B[38;5;124m\"\u001B[39m, \u001B[38;5;241m*\u001B[39m\u001B[38;5;241m*\u001B[39m{})\n\u001B[0;32m      2\u001B[0m bl_avg, bl_std \u001B[38;5;241m=\u001B[39m np\u001B[38;5;241m.\u001B[39mmean(bl, axis\u001B[38;5;241m=\u001B[39m\u001B[38;5;241m0\u001B[39m), np\u001B[38;5;241m.\u001B[39mstd(bl, axis\u001B[38;5;241m=\u001B[39m\u001B[38;5;241m0\u001B[39m)\n\u001B[0;32m      3\u001B[0m bl_best \u001B[38;5;241m=\u001B[39m np\u001B[38;5;241m.\u001B[39margmax(bl_avg)\n",
      "\u001B[1;31mNameError\u001B[0m: name 'baseline' is not defined"
     ]
    }
   ],
   "source": []
  },
  {
   "cell_type": "code",
   "execution_count": null,
   "metadata": {},
   "outputs": [],
   "source": []
  }
 ],
 "metadata": {
  "kernelspec": {
   "name": "ctools",
   "language": "python",
   "display_name": "ctools"
  },
  "language_info": {
   "codemirror_mode": {
    "name": "ipython",
    "version": 3
   },
   "file_extension": ".py",
   "mimetype": "text/x-python",
   "name": "python",
   "nbconvert_exporter": "python",
   "pygments_lexer": "ipython3",
   "version": "3.9.7"
  }
 },
 "nbformat": 4,
 "nbformat_minor": 4
}