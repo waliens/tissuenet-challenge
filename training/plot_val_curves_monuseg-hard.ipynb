{
 "cells": [
  {
   "cell_type": "code",
   "execution_count": 8,
   "metadata": {},
   "outputs": [],
   "source": [
    "from pprint import pprint\n",
    "\n",
    "import numpy as np\n",
    "from itertools import chain\n",
    "from monuseg_params_and_scores_compare import plot_current_setup, get_metric, plt_with_std, COLORS\n",
    "from clustertools import build_datacube\n",
    "from matplotlib import pyplot as plt\n",
    "\n"
   ]
  },
  {
   "cell_type": "code",
   "execution_count": 9,
   "metadata": {},
   "outputs": [],
   "source": [
    "baseline_cube = build_datacube(\"monuseg-unet-baseline\")\n",
    "baseline_dice = baseline_cube(\"val_dice\")\n",
    "bl_dice_avg, bl_dice_std = np.mean(baseline_dice, axis=0).squeeze(), np.std(baseline_dice, axis=0).squeeze()\n",
    "del baseline_cube\n",
    "cube = build_datacube(\"monuseg-unet-hard\")"
   ]
  },
  {
   "cell_type": "code",
   "execution_count": 10,
   "metadata": {},
   "outputs": [],
   "source": [
    "to_plot = [\n",
    "    \"monu_rr\", \"no_distillation\", \"weights_mode\",\n",
    "    \"weights_consistency_fn\", \"weights_minimum\",\n",
    "    \"weights_neighbourhood\", \"distil_target_mode\"\n",
    "]\n",
    "\n",
    "\n",
    "out_params = [\"monu_rr\", \"monu_nc\", \"sparse_start_after\", \"n_calibration\"]\n",
    "\n",
    "param_values = set()\n",
    "\n",
    "for _, out_cube in cube.iter_dimensions(*out_params):\n",
    "    for values, in_cube in out_cube.iter_dimensions(*to_plot):\n",
    "        param_values.add(values)\n",
    "\n",
    "param_val_idxs = {v: i for i, v in enumerate(sorted(list(param_values)))}"
   ]
  },
  {
   "cell_type": "code",
   "execution_count": 11,
   "metadata": {},
   "outputs": [],
   "source": [
    "def readable_weights_mode(wm):\n",
    "    return {\n",
    "        \"pred_entropy\": \"entr\",\n",
    "        \"pred_merged\": \"merg\",\n",
    "        \"constant\": \"csnt\",\n",
    "        \"balance_gt\": \"bala\",\n",
    "        \"pred_consistency\": \"csty\"\n",
    "    }.get(wm, \"n/a\")\n",
    "\n",
    "def make_label(wmode, params):\n",
    "    n, v = [\"w\", \"d\", \"m\"], [readable_weights_mode(wmode), params['distillation'], params[\"distil_target_mode\"]]\n",
    "    if wmode == \"pred_consistency\" or wmode == \"pred_merged\":\n",
    "        n.extend([\"nh\", \"fn\"])\n",
    "        v.extend([params[\"weights_neighbourhood\"], params[\"weights_consistency_fn\"][:4]])\n",
    "    elif not (wmode == \"constant\" or wmode == \"balance_gt\" or wmode == 'pred_entropy'):\n",
    "        raise ValueError(\"unknown wmode '{}'\".format(wmode))\n",
    "    if wmode != \"constant\":\n",
    "        n.append(\"wmin\")\n",
    "        v.append(params['weights_minimum'])\n",
    "    return \", \".join([\"{}={}\".format(n, p) for n, p in zip(n, v)])\n"
   ]
  },
  {
   "cell_type": "code",
   "execution_count": 12,
   "metadata": {
    "scrolled": true
   },
   "outputs": [
    {
     "name": "stdout",
     "output_type": "stream",
     "text": [
      "0.9 1 15 0\n",
      ">  w=bala, d=1, m=soft, wmin=0.0\n",
      ">  w=csnt, d=1, m=soft\n",
      ">  w=entr, d=1, m=soft, wmin=0.5\n",
      ">  w=csnt, d=0, m=soft\n",
      "0.9 1 15 1\n",
      "0.9 2 15 0\n",
      ">  w=bala, d=1, m=soft, wmin=0.0\n",
      ">  w=csnt, d=1, m=soft\n",
      ">  w=entr, d=1, m=soft, wmin=0.5\n",
      ">  w=csnt, d=0, m=soft\n",
      "0.9 2 15 1\n",
      ">  w=bala, d=1, m=hard_dice, wmin=0.0\n",
      ">  w=bala, d=1, m=soft, wmin=0.0\n",
      ">  w=csnt, d=1, m=hard_dice\n",
      ">  w=csnt, d=1, m=soft\n",
      ">  w=entr, d=1, m=hard_dice, wmin=0.5\n",
      ">  w=entr, d=1, m=soft, wmin=0.5\n",
      ">  w=csnt, d=0, m=soft\n"
     ]
    }
   ],
   "source": [
    "for (monu_rr, monu_nc, ssa, n_calib), out_cube in cube.iter_dimensions(*out_params):\n",
    "    plt.figure(figsize=[12.8, 4.8])\n",
    "    for_params = {\n",
    "        \"monu_rr\": str(monu_rr), \n",
    "        \"monu_nc\": str(monu_nc), \n",
    "        \"sparse_start_after\": str(ssa), \n",
    "        \"n_calibration\": n_calib, \n",
    "    }\n",
    "\n",
    "    plt_with_std(plt.gca(), np.arange(50), bl_dice_avg, bl_dice_std, label=\"baseline\", color=COLORS[0])\n",
    "\n",
    "    dice_ymin, dice_ymax = np.min(bl_dice_avg), np.max(bl_dice_avg)\n",
    "    \n",
    "    print(monu_rr, monu_nc, ssa, n_calib)\n",
    "\n",
    "    for values, in_cube in out_cube.iter_dimensions(*to_plot):\n",
    "        rr, nd, wm, wfn, wmin, wneigh, tmode = values\n",
    "        if wm == \"pred_merged\" or wm == \"pred_consistency\":\n",
    "            continue\n",
    "        if in_cube.diagnose()[\"Missing ratio\"] > 0.0:\n",
    "            continue\n",
    "\n",
    "        label = make_label(wm, {\n",
    "            \"monu_rr\": rr, \"distillation\": int(not eval(nd)),\n",
    "            \"weights_consistency_fn\": wfn,\n",
    "            \"weights_minimum\": wmin, \"weights_neighbourhood\": wneigh,\n",
    "            \"distil_target_mode\": tmode\n",
    "        })\n",
    "\n",
    "        print(\"> \", label)\n",
    "        val_dice = np.array(get_metric(\"val_dice\", in_cube))\n",
    "        dice_mean = np.mean(val_dice, axis=0)\n",
    "        dice_std = np.std(val_dice, axis=0)\n",
    "        x = np.arange(dice_mean.shape[0])\n",
    "\n",
    "        plt_with_std(plt.gca(), x, dice_mean, dice_std, label, COLORS[(param_val_idxs[values] + 1) % len(COLORS)], do_std=True, alpha=0.2)\n",
    "\n",
    "        dice_ymin = min(dice_ymin, np.min(dice_mean))\n",
    "        dice_ymax = max(dice_ymax, np.max(dice_mean))\n",
    "\n",
    "    title = \"_\".join(map(lambda t: \"{}={}\".format(t[0], t[1]), for_params.items()))\n",
    "    plt.title(title)\n",
    "\n",
    "    plt.ylim(dice_ymin * 0.95, dice_ymax * 1.05)\n",
    "    plt.xlim(0, 50)\n",
    "    plt.legend(loc='center left', bbox_to_anchor=(1, 0.5))\n",
    "\n",
    "    plt.ylabel(\"val dice (opt)\")\n",
    "    plt.xlabel(\"epoch\")\n",
    "    plt.tight_layout()\n",
    "\n",
    "    filename = \"hard_\" + title + \".pdf\"   \n",
    "    \n",
    "    plt.savefig(filename)\n",
    "    plt.close()\n",
    "    "
   ]
  },
  {
   "cell_type": "code",
   "execution_count": null,
   "metadata": {},
   "outputs": [],
   "source": []
  },
  {
   "cell_type": "code",
   "execution_count": null,
   "metadata": {},
   "outputs": [],
   "source": []
  },
  {
   "cell_type": "code",
   "execution_count": null,
   "metadata": {},
   "outputs": [],
   "source": []
  }
 ],
 "metadata": {
  "kernelspec": {
   "display_name": "Python [conda env:root]",
   "language": "python",
   "name": "conda-root-py"
  },
  "language_info": {
   "codemirror_mode": {
    "name": "ipython",
    "version": 3
   },
   "file_extension": ".py",
   "mimetype": "text/x-python",
   "name": "python",
   "nbconvert_exporter": "python",
   "pygments_lexer": "ipython3",
   "version": "3.9.7"
  }
 },
 "nbformat": 4,
 "nbformat_minor": 4
}
